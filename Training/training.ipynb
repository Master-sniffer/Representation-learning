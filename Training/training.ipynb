{
 "cells": [
  {
   "cell_type": "code",
   "execution_count": 1,
   "id": "d6cc34b4",
   "metadata": {
    "execution": {
     "iopub.execute_input": "2023-10-13T02:01:32.732963Z",
     "iopub.status.busy": "2023-10-13T02:01:32.732634Z",
     "iopub.status.idle": "2023-10-13T02:01:38.235547Z",
     "shell.execute_reply": "2023-10-13T02:01:38.234637Z"
    },
    "papermill": {
     "duration": 5.511649,
     "end_time": "2023-10-13T02:01:38.237663",
     "exception": false,
     "start_time": "2023-10-13T02:01:32.726014",
     "status": "completed"
    },
    "tags": []
   },
   "outputs": [],
   "source": [
    "import torch\n",
    "import torch.nn as nn\n",
    "import torch.optim as optim\n",
    "import torchvision.transforms as transforms\n",
    "import torchvision.models as models\n",
    "from torch.utils.data import DataLoader, Dataset\n",
    "from torchvision.datasets import ImageFolder\n",
    "import os,gc\n",
    "import torch.nn.functional as F\n",
    "import seaborn as sns\n",
    "import numpy as np  # Import NumPy as np\n",
    "import random as rnd\n",
    "\n",
    "\n"
   ]
  },
  {
   "cell_type": "code",
   "execution_count": 2,
   "id": "33b13a97",
   "metadata": {
    "execution": {
     "iopub.execute_input": "2023-10-13T02:01:38.250135Z",
     "iopub.status.busy": "2023-10-13T02:01:38.249739Z",
     "iopub.status.idle": "2023-10-13T02:01:40.930405Z",
     "shell.execute_reply": "2023-10-13T02:01:40.929414Z"
    },
    "papermill": {
     "duration": 2.689595,
     "end_time": "2023-10-13T02:01:40.932655",
     "exception": false,
     "start_time": "2023-10-13T02:01:38.243060",
     "status": "completed"
    },
    "tags": []
   },
   "outputs": [],
   "source": [
    "custom_data_path = './seg/brain-tumor-mri-dataset'\n",
    "trainset = ImageFolder(root=os.path.join(custom_data_path, 'Training'), transform=transforms.ToTensor())\n"
   ]
  },
  {
   "cell_type": "code",
   "execution_count": 3,
   "id": "7a9f4145",
   "metadata": {
    "execution": {
     "iopub.execute_input": "2023-10-13T02:01:40.944432Z",
     "iopub.status.busy": "2023-10-13T02:01:40.943642Z",
     "iopub.status.idle": "2023-10-13T02:01:40.948907Z",
     "shell.execute_reply": "2023-10-13T02:01:40.947771Z"
    },
    "papermill": {
     "duration": 0.012492,
     "end_time": "2023-10-13T02:01:40.950594",
     "exception": false,
     "start_time": "2023-10-13T02:01:40.938102",
     "status": "completed"
    },
    "tags": []
   },
   "outputs": [
    {
     "name": "stdout",
     "output_type": "stream",
     "text": [
      "5712\n"
     ]
    }
   ],
   "source": [
    "print(len(trainset))"
   ]
  },
  {
   "cell_type": "code",
   "execution_count": 4,
   "id": "231e2179",
   "metadata": {
    "execution": {
     "iopub.execute_input": "2023-10-13T02:01:40.961046Z",
     "iopub.status.busy": "2023-10-13T02:01:40.960810Z",
     "iopub.status.idle": "2023-10-13T02:01:42.255012Z",
     "shell.execute_reply": "2023-10-13T02:01:42.254028Z"
    },
    "papermill": {
     "duration": 1.301857,
     "end_time": "2023-10-13T02:01:42.257225",
     "exception": false,
     "start_time": "2023-10-13T02:01:40.955368",
     "status": "completed"
    },
    "tags": []
   },
   "outputs": [],
   "source": [
    "trainloader = torch.utils.data.DataLoader(trainset, batch_size=512, shuffle=False) #CHANGED: No need to load such big batch_size. With bigger datasets it may play a bad joke\n",
    "data = next(iter(trainloader))[0]\n",
    "mean = data.mean(axis=(0, 2, 3))\n",
    "std = data.std(axis=(0, 2, 3))"
   ]
  },
  {
   "cell_type": "code",
   "execution_count": 5,
   "id": "b6f805a3",
   "metadata": {
    "execution": {
     "iopub.execute_input": "2023-10-13T02:01:42.270089Z",
     "iopub.status.busy": "2023-10-13T02:01:42.269541Z",
     "iopub.status.idle": "2023-10-13T02:01:42.296655Z",
     "shell.execute_reply": "2023-10-13T02:01:42.295773Z"
    },
    "papermill": {
     "duration": 0.034811,
     "end_time": "2023-10-13T02:01:42.298386",
     "exception": false,
     "start_time": "2023-10-13T02:01:42.263575",
     "status": "completed"
    },
    "tags": []
   },
   "outputs": [
    {
     "name": "stdout",
     "output_type": "stream",
     "text": [
      "tensor([0.5594, 0.5578, 0.5536]) tensor([0.3917, 0.3917, 0.3950])\n"
     ]
    }
   ],
   "source": [
    "print(mean,std)"
   ]
  },
  {
   "cell_type": "code",
   "execution_count": 6,
   "id": "e182a2c8",
   "metadata": {
    "execution": {
     "iopub.execute_input": "2023-10-13T02:01:42.308842Z",
     "iopub.status.busy": "2023-10-13T02:01:42.308586Z",
     "iopub.status.idle": "2023-10-13T02:01:42.312456Z",
     "shell.execute_reply": "2023-10-13T02:01:42.311551Z"
    },
    "papermill": {
     "duration": 0.011081,
     "end_time": "2023-10-13T02:01:42.314198",
     "exception": false,
     "start_time": "2023-10-13T02:01:42.303117",
     "status": "completed"
    },
    "tags": []
   },
   "outputs": [],
   "source": [
    "normalize = transforms.Normalize(mean=mean, std=std)\n"
   ]
  },
  {
   "cell_type": "code",
   "execution_count": 7,
   "id": "f8465c35",
   "metadata": {
    "execution": {
     "iopub.execute_input": "2023-10-13T02:01:42.324941Z",
     "iopub.status.busy": "2023-10-13T02:01:42.324399Z",
     "iopub.status.idle": "2023-10-13T02:01:42.329537Z",
     "shell.execute_reply": "2023-10-13T02:01:42.328758Z"
    },
    "papermill": {
     "duration": 0.012276,
     "end_time": "2023-10-13T02:01:42.331216",
     "exception": false,
     "start_time": "2023-10-13T02:01:42.318940",
     "status": "completed"
    },
    "tags": []
   },
   "outputs": [],
   "source": [
    "# Define data augmentation and normalization transforms\n",
    "\n",
    "\n",
    "shape = (350,350) # (350,350)\n",
    "#CHANGED: We can safely transform to 512x512. Even bigger, if training goes good\n",
    "transform_train = transforms.Compose([\n",
    "    transforms.RandomHorizontalFlip(),\n",
    "    transforms.Resize(shape),\n",
    "    transforms.ToTensor(),\n",
    "   normalize\n",
    "])\n",
    "\n",
    "transform_test = transforms.Compose([\n",
    "    transforms.ToTensor(),\n",
    "    transforms.Resize(shape),\n",
    "    normalize\n",
    "])"
   ]
  },
  {
   "cell_type": "code",
   "execution_count": 8,
   "id": "9bedcf8e",
   "metadata": {
    "execution": {
     "iopub.execute_input": "2023-10-13T02:01:42.342293Z",
     "iopub.status.busy": "2023-10-13T02:01:42.341507Z",
     "iopub.status.idle": "2023-10-13T02:01:43.098637Z",
     "shell.execute_reply": "2023-10-13T02:01:43.097753Z"
    },
    "papermill": {
     "duration": 0.764462,
     "end_time": "2023-10-13T02:01:43.100511",
     "exception": false,
     "start_time": "2023-10-13T02:01:42.336049",
     "status": "completed"
    },
    "tags": []
   },
   "outputs": [
    {
     "name": "stderr",
     "output_type": "stream",
     "text": [
      "/sw/arch/RHEL8/EB_production/2022/software/PyTorch/1.12.0-foss-2022a-CUDA-11.7.0/lib/python3.10/site-packages/torch/utils/data/dataloader.py:557: UserWarning: This DataLoader will create 8 worker processes in total. Our suggested max number of worker in current system is 2, which is smaller than what this DataLoader is going to create. Please be aware that excessive worker creation might get DataLoader running slow or even freeze, lower the worker number to avoid potential slowness/freeze if necessary.\n",
      "  warnings.warn(_create_warning_msg(\n",
      "/sw/arch/RHEL8/EB_production/2022/software/PyTorch/1.12.0-foss-2022a-CUDA-11.7.0/lib/python3.10/site-packages/torch/utils/data/dataloader.py:557: UserWarning: This DataLoader will create 4 worker processes in total. Our suggested max number of worker in current system is 2, which is smaller than what this DataLoader is going to create. Please be aware that excessive worker creation might get DataLoader running slow or even freeze, lower the worker number to avoid potential slowness/freeze if necessary.\n",
      "  warnings.warn(_create_warning_msg(\n"
     ]
    }
   ],
   "source": [
    "batch_size = 16\n",
    "# Use ImageFolder to create a dataset\n",
    "#labels are given as 0,1,2\n",
    "#first folder has label 0 and so on\n",
    "trainset = ImageFolder(root=os.path.join(custom_data_path, 'Training'), transform=transform_train)\n",
    "trainloader = torch.utils.data.DataLoader(trainset, batch_size=batch_size, shuffle=True, num_workers=8)\n",
    "\n",
    "testset = ImageFolder(root=os.path.join(custom_data_path, 'Testing'), transform=transform_test)\n",
    "testloader = torch.utils.data.DataLoader(testset, batch_size=batch_size, shuffle=False, num_workers=4)"
   ]
  },
  {
   "cell_type": "code",
   "execution_count": 9,
   "id": "281d33a5",
   "metadata": {
    "execution": {
     "iopub.execute_input": "2023-10-13T02:01:43.112645Z",
     "iopub.status.busy": "2023-10-13T02:01:43.111811Z",
     "iopub.status.idle": "2023-10-13T02:01:43.117030Z",
     "shell.execute_reply": "2023-10-13T02:01:43.115977Z"
    },
    "papermill": {
     "duration": 0.013225,
     "end_time": "2023-10-13T02:01:43.118920",
     "exception": false,
     "start_time": "2023-10-13T02:01:43.105695",
     "status": "completed"
    },
    "tags": []
   },
   "outputs": [
    {
     "name": "stdout",
     "output_type": "stream",
     "text": [
      "7023\n"
     ]
    }
   ],
   "source": [
    "print(len(trainset) + len(testset))"
   ]
  },
  {
   "cell_type": "code",
   "execution_count": 10,
   "id": "bc6dca88",
   "metadata": {
    "execution": {
     "iopub.execute_input": "2023-10-13T02:01:43.130729Z",
     "iopub.status.busy": "2023-10-13T02:01:43.129908Z",
     "iopub.status.idle": "2023-10-13T02:01:46.703718Z",
     "shell.execute_reply": "2023-10-13T02:01:46.702829Z"
    },
    "papermill": {
     "duration": 3.581745,
     "end_time": "2023-10-13T02:01:46.705779",
     "exception": false,
     "start_time": "2023-10-13T02:01:43.124034",
     "status": "completed"
    },
    "tags": []
   },
   "outputs": [],
   "source": [
    "%%capture\n",
    "\n",
    "# Define the ResNet model\n",
    "\n",
    "# resnet50 = models.resnet50(pretrained=False, num_classes=4)  # You can choose a different ResNet variant\n",
    "resnet50 = models.resnet50(pretrained=False)  \n",
    "\n",
    "#models.wide_resnet50_2\n",
    "# Define loss function and optimizer\n",
    "criterion = nn.CrossEntropyLoss()\n",
    "optimizer = optim.SGD(resnet50.parameters(), lr=1e-1, momentum=0.9, weight_decay=5e-3) #CHANGE: We can start with lower LR, but because of scheduler we set high one\n",
    "\n",
    "\n",
    "import torch.optim.lr_scheduler as lr_scheduler\n",
    "\n",
    "#CHANGED\n",
    "scheduler = lr_scheduler.ReduceLROnPlateau(optimizer, 'max', patience = 5, verbose=True)\n",
    "\n",
    "#scheduler = lr_scheduler.LinearLR(optimizer, start_factor=1.0, end_factor=1e-7, total_iters=1_00)\n",
    "# ALT SCHEDULER\n",
    "# scheduler = lr_scheduler.ExponentialLR(optimizer, gamma=0.99)\n",
    "\n",
    "# Training loop\n",
    "device = torch.device(\"cuda\" if torch.cuda.is_available() else \"cpu\")\n",
    "resnet50.to(device)"
   ]
  },
  {
   "cell_type": "code",
   "execution_count": 11,
   "id": "814655b7",
   "metadata": {
    "execution": {
     "iopub.execute_input": "2023-10-13T02:01:46.717128Z",
     "iopub.status.busy": "2023-10-13T02:01:46.716572Z",
     "iopub.status.idle": "2023-10-13T02:01:46.722154Z",
     "shell.execute_reply": "2023-10-13T02:01:46.721245Z"
    },
    "papermill": {
     "duration": 0.012971,
     "end_time": "2023-10-13T02:01:46.723809",
     "exception": false,
     "start_time": "2023-10-13T02:01:46.710838",
     "status": "completed"
    },
    "tags": []
   },
   "outputs": [
    {
     "name": "stdout",
     "output_type": "stream",
     "text": [
      "Cuda\n"
     ]
    }
   ],
   "source": [
    "num_epochs = 150\n",
    "# Check if a CUDA-enabled GPU is available\n",
    "if torch.cuda.is_available():\n",
    "    # Set the device to CUDA\n",
    "    device = torch.device(\"cuda\")\n",
    "    print(\"Cuda\")\n",
    "else:\n",
    "    # If CUDA is not available, use the CPU\n",
    "    device = torch.device(\"cpu\")\n"
   ]
  },
  {
   "cell_type": "code",
   "execution_count": 12,
   "id": "5c326628",
   "metadata": {
    "execution": {
     "iopub.execute_input": "2023-10-13T02:01:46.738155Z",
     "iopub.status.busy": "2023-10-13T02:01:46.737633Z",
     "iopub.status.idle": "2023-10-13T02:01:46.742111Z",
     "shell.execute_reply": "2023-10-13T02:01:46.741199Z"
    },
    "papermill": {
     "duration": 0.014823,
     "end_time": "2023-10-13T02:01:46.743659",
     "exception": false,
     "start_time": "2023-10-13T02:01:46.728836",
     "status": "completed"
    },
    "tags": []
   },
   "outputs": [],
   "source": [
    "def save_model(model,lr,epoch,optimizer):\n",
    "    checkpoint_path = \"./checkpoints/segment_res50x_\" + str(epoch) +\"_epoch.pth\"\n",
    "    torch.save({\n",
    "        'epoch': epoch,\n",
    "        'lr':after_lr,\n",
    "        'model_state_dict': model.state_dict(),\n",
    "        'optimizer_state_dict': optimizer.state_dict(),\n",
    "        'loss': loss,\n",
    "    }, checkpoint_path)\n",
    "    print(f\"Model saved at epoch {epoch}\") \n",
    "    "
   ]
  },
  {
   "cell_type": "code",
   "execution_count": 13,
   "id": "1164ebbf",
   "metadata": {
    "execution": {
     "iopub.execute_input": "2023-10-13T02:01:46.754596Z",
     "iopub.status.busy": "2023-10-13T02:01:46.754131Z",
     "iopub.status.idle": "2023-10-13T02:01:46.759172Z",
     "shell.execute_reply": "2023-10-13T02:01:46.758240Z"
    },
    "papermill": {
     "duration": 0.012297,
     "end_time": "2023-10-13T02:01:46.760797",
     "exception": false,
     "start_time": "2023-10-13T02:01:46.748500",
     "status": "completed"
    },
    "tags": []
   },
   "outputs": [],
   "source": [
    "def validate_accuracy(model, dataloader, device):\n",
    "    model.eval()  # Set the model to evaluation mode\n",
    "    correct = 0\n",
    "    total = 0\n",
    "\n",
    "    with torch.no_grad():\n",
    "        for inputs, labels in dataloader:\n",
    "            inputs, labels = inputs.to(device), labels.to(device)\n",
    "\n",
    "            # Forward pass\n",
    "            outputs = model(inputs)\n",
    "\n",
    "            # Get predicted labels\n",
    "            _, predicted = torch.max(outputs, 1)\n",
    "\n",
    "            # Count total and correctly predicted labels\n",
    "            total += labels.size(0)\n",
    "            correct += (predicted == labels).sum().item()\n",
    "\n",
    "    accuracy = (correct / total) * 100.0\n",
    "\n",
    "    return accuracy\n"
   ]
  },
  {
   "cell_type": "code",
   "execution_count": 14,
   "id": "24f10de7",
   "metadata": {
    "execution": {
     "iopub.execute_input": "2023-10-13T02:01:46.771649Z",
     "iopub.status.busy": "2023-10-13T02:01:46.771002Z",
     "iopub.status.idle": "2023-10-13T02:01:46.775181Z",
     "shell.execute_reply": "2023-10-13T02:01:46.774435Z"
    },
    "papermill": {
     "duration": 0.011376,
     "end_time": "2023-10-13T02:01:46.776894",
     "exception": false,
     "start_time": "2023-10-13T02:01:46.765518",
     "status": "completed"
    },
    "tags": []
   },
   "outputs": [],
   "source": [
    "import warnings\n",
    "warnings.filterwarnings(\"ignore\")"
   ]
  },
  {
   "cell_type": "code",
   "execution_count": 15,
   "id": "7935383b",
   "metadata": {},
   "outputs": [],
   "source": [
    "# def checkpoint(model, filename):\n",
    "#     torch.save(model.state_dict(), filename)\n",
    "    \n",
    "def resume(model, filename):\n",
    "    \n",
    "    checkpoint = torch.load(filename)\n",
    "    model.load_state_dict(checkpoint['model_state_dict'])\n",
    "    optimizer.load_state_dict(checkpoint['optimizer_state_dict'])\n",
    "    epoch = checkpoint['epoch']\n",
    "    lr = checkpoint['lr']\n",
    "    #print(lr)\n",
    "    return model, optimizer, lr, epoch\n",
    "    \n",
    "    #model.load_state_dict(torch.load(filename))\n",
    "\n",
    "    \n",
    "def save_model_end(model,after_lr,epoch,optimizer):\n",
    "    checkpoint_path = \"./checkpoints/segment_res50x_\" + str(epoch) +\"_epoch_TEMP.pth\"\n",
    "    torch.save({\n",
    "        'epoch': epoch,\n",
    "        'lr':after_lr,\n",
    "        'model_state_dict': model.state_dict(),\n",
    "        'optimizer_state_dict': optimizer.state_dict()\n",
    "    }, checkpoint_path)\n",
    "    print(f\"Model saved at epoch {epoch}\") "
   ]
  },
  {
   "cell_type": "code",
   "execution_count": 16,
   "id": "fb3a100c",
   "metadata": {},
   "outputs": [
    {
     "name": "stdout",
     "output_type": "stream",
     "text": [
      "total 2300408\r\n",
      "-rw-r----- 1 scur0834 scur0834 204821503 Oct 17 16:30  segment_res50x_105_epoch_TEMP.pth\r\n",
      "-rw-r----- 1 scur0834 scur0834 204821503 Oct 17 03:23  segment_res50x_30_epoch_TEMP.pth\r\n",
      "-rw-r----- 1 scur0834 scur0834 204821503 Oct 17 02:48  segment_res50x_15_epoch_TEMP.pth\r\n",
      "-rw-r----- 1 scur0834 scur0834 204821757 Oct 17 02:15  segment_res50x_1_epoch.pth\r\n",
      "-rw-r----- 1 scur0834 scur0834 204821503 Oct 17 02:13  segment_res50x_0_epoch_TEMP.pth\r\n",
      "-rw-r----- 1 scur0834 scur0834 204821503 Oct 16 22:39  segment_res50x_90_epoch_TEMP.pth\r\n",
      "-rw-r----- 1 scur0834 scur0834 204821503 Oct 16 21:54  segment_res50x_75_epoch_TEMP.pth\r\n",
      "-rw-r----- 1 scur0834 scur0834 204821503 Oct 16 21:19  segment_res50x_60_epoch_TEMP.pth\r\n",
      "-rw-r----- 1 scur0834 scur0834 204821503 Oct 16 20:44  segment_res50x_45_epoch_TEMP.pth\r\n",
      "-rw-r----- 1 scur0834 scur0834 204821503 Oct 16 17:43  segment_res50_pretrained_0_epoch_TEMP.pth\r\n",
      "-rw-r----- 1 scur0834 scur0834 204821503 Oct 16 05:11  segment_res50x_5_epoch_TEMP.pth\r\n",
      "-rw-r----- 1 scur0834 scur0834 102544897 Oct 16 05:07 'shape: (350, 350) and batch size: 16 segment_resnet50_full.pth'\r\n"
     ]
    }
   ],
   "source": [
    "# !mkdir checkpoints\n",
    "\n",
    "# !rm -rf checkpoints\n",
    "\n",
    "!ls -lt checkpoints"
   ]
  },
  {
   "cell_type": "code",
   "execution_count": 17,
   "id": "e73484d6",
   "metadata": {},
   "outputs": [
    {
     "name": "stdout",
     "output_type": "stream",
     "text": [
      "Do u want to load best model ? Y-yes, N-no yes\n",
      "Continue...\n"
     ]
    }
   ],
   "source": [
    "start_epoch=0\n",
    "\n",
    "rr = str(input(\"Do u want to load best model ? Y-yes, N-no \"))\n",
    "if (rr==\"yes\"):\n",
    "    print(\"Continue...\")\n",
    "    resnet50, optimizer, lr, start_epoch = resume(resnet50, \"./checkpoints/segment_res50x_105_epoch_TEMP.pth\")\n",
    "    #print(optimizer.param_groups[0][\"lr\"] )\n",
    "else:\n",
    "    print(\"see ya\")"
   ]
  },
  {
   "cell_type": "code",
   "execution_count": 18,
   "id": "7dd416d3",
   "metadata": {
    "execution": {
     "iopub.execute_input": "2023-10-13T02:01:46.788189Z",
     "iopub.status.busy": "2023-10-13T02:01:46.787441Z",
     "iopub.status.idle": "2023-10-13T02:59:34.154301Z",
     "shell.execute_reply": "2023-10-13T02:59:34.153115Z"
    },
    "papermill": {
     "duration": 3467.374481,
     "end_time": "2023-10-13T02:59:34.156432",
     "exception": false,
     "start_time": "2023-10-13T02:01:46.781951",
     "status": "completed"
    },
    "tags": []
   },
   "outputs": [
    {
     "data": {
      "application/vnd.jupyter.widget-view+json": {
       "model_id": "7614c3f3c3534820a4f9ad0fca1bb11b",
       "version_major": 2,
       "version_minor": 0
      },
      "text/plain": [
       "  0%|          | 0/45 [00:00<?, ?it/s]"
      ]
     },
     "metadata": {},
     "output_type": "display_data"
    },
    {
     "name": "stdout",
     "output_type": "stream",
     "text": [
      "***************************************************************************\n",
      "Epoch 105, Loss: 0.458386659163053 , Current best accuracy: 77.19298245614034\n",
      "Epoch 105: SGD lr 0.0000 -> 0.0000\n",
      "Model saved at epoch 105\n",
      "***************************************************************************\n",
      "Epoch 110, Loss: 0.4568937724294449 , Current best accuracy: 77.42181540808542\n",
      "Epoch 110: SGD lr 0.0000 -> 0.0000\n",
      "***************************************************************************\n",
      "Epoch 115, Loss: 0.45910767058865365 , Current best accuracy: 77.42181540808542\n",
      "Epoch 115: SGD lr 0.0000 -> 0.0000\n",
      "***************************************************************************\n",
      "Epoch 120, Loss: 0.45610514245614286 , Current best accuracy: 77.42181540808542\n",
      "Epoch 120: SGD lr 0.0000 -> 0.0000\n",
      "Model saved at epoch 120\n",
      "***************************************************************************\n",
      "Epoch 125, Loss: 0.46667494601896164 , Current best accuracy: 77.42181540808542\n",
      "Epoch 125: SGD lr 0.0000 -> 0.0000\n",
      "***************************************************************************\n",
      "Epoch 130, Loss: 0.45345411543585673 , Current best accuracy: 77.42181540808542\n",
      "Epoch 130: SGD lr 0.0000 -> 0.0000\n",
      "***************************************************************************\n",
      "Epoch 135, Loss: 0.46008485117379355 , Current best accuracy: 77.42181540808542\n",
      "Epoch 135: SGD lr 0.0000 -> 0.0000\n",
      "Model saved at epoch 135\n",
      "***************************************************************************\n",
      "Epoch 140, Loss: 0.4615538860319041 , Current best accuracy: 77.42181540808542\n",
      "Epoch 140: SGD lr 0.0000 -> 0.0000\n",
      "***************************************************************************\n",
      "Epoch 145, Loss: 0.46896914586800487 , Current best accuracy: 77.42181540808542\n",
      "Epoch 145: SGD lr 0.0000 -> 0.0000\n",
      "CPU times: user 1h 18min 49s, sys: 20min 21s, total: 1h 39min 11s\n",
      "Wall time: 1h 45min 2s\n"
     ]
    }
   ],
   "source": [
    "%%time\n",
    "\n",
    "from tqdm.auto import tqdm\n",
    "\n",
    "early_stop_thresh = 40\n",
    "best_accuracy = -1\n",
    "best_epoch = -1\n",
    "\n",
    "for epoch in tqdm(range(start_epoch, num_epochs)):\n",
    "    resnet50.train()\n",
    "    running_loss = 0.0\n",
    "\n",
    "    for i, data in enumerate(trainloader, 0):\n",
    "        inputs, labels = data\n",
    "        inputs, labels = inputs.to(device), labels.to(device)\n",
    "\n",
    "        optimizer.zero_grad()\n",
    "\n",
    "        outputs = resnet50(inputs)\n",
    "        loss = criterion(outputs, labels)\n",
    "        loss.backward()\n",
    "        optimizer.step()\n",
    "\n",
    "        running_loss += loss.item()\n",
    "    \n",
    "    \n",
    "    if epoch == 1:  # 50th epoch\n",
    "        save_model(resnet50,after_lr,str(epoch+start_epoch),optimizer)\n",
    "        \n",
    "    \n",
    "    # Calculate validation accuracy\n",
    "    accuracy = validate_accuracy(resnet50, testloader, device)\n",
    "\n",
    "    if accuracy > best_accuracy:\n",
    "        best_accuracy = accuracy\n",
    "        best_epoch = epoch\n",
    "        \n",
    "        \n",
    "    elif (epoch - best_epoch >= early_stop_thresh and epoch%early_stop_thresh==0 ):\n",
    "        print(f\"Early stopping after {early_stop_thresh} epochs without improvement in accuracy.\")\n",
    "        save_model(resnet50,after_lr,str(epoch+start_epoch)+\" best one\",optimizer)\n",
    "        #checkpoint(model, f\"./checkpoints/seg_epoch-{epoch}.pth\")\n",
    "        print(\"#######\\nCurrent best accuracy: \",best_accuracy,\"\\n#######\")\n",
    "        break    \n",
    "        \n",
    "    \n",
    "    before_lr = optimizer.param_groups[0][\"lr\"]\n",
    "    scheduler.step(accuracy)\n",
    "    after_lr = optimizer.param_groups[0][\"lr\"]\n",
    "    \n",
    "    if (rnd.randint(0, 1)==1):\n",
    "        torch.cuda.empty_cache()\n",
    "        del data, labels,outputs, inputs\n",
    "        gc.collect()\n",
    "    \n",
    "    if ((epoch)%5==0):\n",
    "        print(\"*****\"*15)\n",
    "        print(f\"Epoch {epoch}, Loss: {running_loss / len(trainloader)} , Current best accuracy: {best_accuracy}\")\n",
    "    \n",
    "        #CHANGED ADDED THIS PART\n",
    "        print(\"Epoch %d: SGD lr %.4f -> %.4f\" % (epoch, before_lr, after_lr))\n",
    "        \n",
    "    \n",
    "    if (epoch==num_epochs):\n",
    "        print(\"#######\\nCurrent best accuracy: \",best_accuracy,\"\\n#######\")\n",
    "        \n",
    "        save_model_end(resnet50,after_lr,str(epoch+start_epoch)+\"_FINISH_AT_END_\",optimizer)\n",
    "        \n",
    "    elif ((epoch)%15==0):\n",
    "\n",
    "        save_model_end(resnet50,after_lr,epoch,optimizer)"
   ]
  },
  {
   "cell_type": "code",
   "execution_count": 46,
   "id": "90c2c36b",
   "metadata": {
    "execution": {
     "iopub.execute_input": "2023-10-13T02:59:34.170353Z",
     "iopub.status.busy": "2023-10-13T02:59:34.169256Z",
     "iopub.status.idle": "2023-10-13T02:59:34.335181Z",
     "shell.execute_reply": "2023-10-13T02:59:34.334187Z"
    },
    "papermill": {
     "duration": 0.175235,
     "end_time": "2023-10-13T02:59:34.337464",
     "exception": false,
     "start_time": "2023-10-13T02:59:34.162229",
     "status": "completed"
    },
    "tags": []
   },
   "outputs": [],
   "source": [
    "# torch.save(resnet50.state_dict(), f'./checkpoints/shape: {str(shape)} and batch size: {str(batch_size)} segment_resnet50_full.pth')"
   ]
  },
  {
   "cell_type": "code",
   "execution_count": null,
   "id": "cc3fb07d",
   "metadata": {
    "execution": {
     "iopub.execute_input": "2023-10-13T02:59:34.350446Z",
     "iopub.status.busy": "2023-10-13T02:59:34.349617Z",
     "iopub.status.idle": "2023-10-13T02:59:34.353862Z",
     "shell.execute_reply": "2023-10-13T02:59:34.353009Z"
    },
    "papermill": {
     "duration": 0.012473,
     "end_time": "2023-10-13T02:59:34.355648",
     "exception": false,
     "start_time": "2023-10-13T02:59:34.343175",
     "status": "completed"
    },
    "tags": []
   },
   "outputs": [],
   "source": [
    "#resnet_load = models.resnet50(pretrained=False, num_classes=4)  # You can choose a different ResNet variant\n"
   ]
  },
  {
   "cell_type": "code",
   "execution_count": null,
   "id": "d25f6ba1",
   "metadata": {
    "execution": {
     "iopub.execute_input": "2023-10-13T02:59:34.367473Z",
     "iopub.status.busy": "2023-10-13T02:59:34.367212Z",
     "iopub.status.idle": "2023-10-13T02:59:34.370979Z",
     "shell.execute_reply": "2023-10-13T02:59:34.370074Z"
    },
    "papermill": {
     "duration": 0.011652,
     "end_time": "2023-10-13T02:59:34.372690",
     "exception": false,
     "start_time": "2023-10-13T02:59:34.361038",
     "status": "completed"
    },
    "tags": []
   },
   "outputs": [],
   "source": [
    "#checkpoint_path = '/kaggle/working/res50_normal_5.pth'\n",
    "#checkpoint = torch.load(checkpoint_path)\n",
    "# Retrieve the components from the checkpoint\n",
    "#epoch = checkpoint['epoch']\n",
    "#model_state_dict = checkpoint['model_state_dict']\n",
    "#optimizer_state_dict = checkpoint['optimizer_state_dict']\n",
    "#loss = checkpoint['loss']\n"
   ]
  },
  {
   "cell_type": "code",
   "execution_count": null,
   "id": "2d324bc1",
   "metadata": {
    "execution": {
     "iopub.execute_input": "2023-10-13T02:59:34.384872Z",
     "iopub.status.busy": "2023-10-13T02:59:34.384332Z",
     "iopub.status.idle": "2023-10-13T02:59:34.388379Z",
     "shell.execute_reply": "2023-10-13T02:59:34.387561Z"
    },
    "papermill": {
     "duration": 0.012222,
     "end_time": "2023-10-13T02:59:34.390313",
     "exception": false,
     "start_time": "2023-10-13T02:59:34.378091",
     "status": "completed"
    },
    "tags": []
   },
   "outputs": [],
   "source": [
    "#resnet_load.load_state_dict(model_state_dict)\n",
    "#resnet_load.eval()"
   ]
  },
  {
   "cell_type": "code",
   "execution_count": null,
   "id": "3174d8ca",
   "metadata": {
    "execution": {
     "iopub.execute_input": "2023-10-13T02:59:34.402168Z",
     "iopub.status.busy": "2023-10-13T02:59:34.401819Z",
     "iopub.status.idle": "2023-10-13T02:59:52.411284Z",
     "shell.execute_reply": "2023-10-13T02:59:52.409910Z"
    },
    "papermill": {
     "duration": 18.017705,
     "end_time": "2023-10-13T02:59:52.413227",
     "exception": false,
     "start_time": "2023-10-13T02:59:34.395522",
     "status": "completed"
    },
    "tags": []
   },
   "outputs": [],
   "source": [
    "# Set the model to evaluation mode\n",
    "\n",
    "resnet50.eval()\n",
    "\n",
    "correct = 0\n",
    "total = 0\n",
    "\n",
    "# Disable gradient calculation during inference\n",
    "with torch.no_grad():\n",
    "    for images, labels in testloader:\n",
    "        images = images.to(device)  # Move data to the appropriate device (e.g., CPU or GPU)\n",
    "        labels = labels.to(device)\n",
    "\n",
    "        # Forward pass\n",
    "        outputs = resnet50(images)\n",
    "        \n",
    "        # Get predicted labels\n",
    "        _, predicted = torch.max(outputs, 1)\n",
    "        \n",
    "        # Count total and correctly predicted labels\n",
    "        total += labels.size(0)\n",
    "        correct += (predicted == labels).sum().item()\n",
    "\n",
    "# Calculate the accuracy\n",
    "accuracy = (correct / total) * 100.0\n",
    "\n",
    "print(f'Accuracy of the model on the test dataset: {accuracy:.2f}%')"
   ]
  },
  {
   "cell_type": "code",
   "execution_count": null,
   "id": "e5440307",
   "metadata": {
    "execution": {
     "iopub.execute_input": "2023-10-13T02:59:52.426901Z",
     "iopub.status.busy": "2023-10-13T02:59:52.425850Z",
     "iopub.status.idle": "2023-10-13T02:59:52.823623Z",
     "shell.execute_reply": "2023-10-13T02:59:52.822059Z"
    },
    "papermill": {
     "duration": 0.405818,
     "end_time": "2023-10-13T02:59:52.824969",
     "exception": true,
     "start_time": "2023-10-13T02:59:52.419151",
     "status": "failed"
    },
    "tags": []
   },
   "outputs": [],
   "source": [
    "chest_path = '/kaggle/input/labeled-chest-xray-images'\n",
    "testset_chest = ImageFolder(root=os.path.join(chest_path, 'chest_xray/test'), transform=transform_test)\n",
    "testloader_chest = torch.utils.data.DataLoader(testset_chest, batch_size=batch_size, shuffle=False, num_workers=4)"
   ]
  },
  {
   "cell_type": "code",
   "execution_count": null,
   "id": "3c39ad9b",
   "metadata": {
    "papermill": {
     "duration": null,
     "end_time": null,
     "exception": null,
     "start_time": null,
     "status": "pending"
    },
    "tags": []
   },
   "outputs": [],
   "source": [
    "print(len(testset_chest))"
   ]
  },
  {
   "cell_type": "code",
   "execution_count": null,
   "id": "2cda745a",
   "metadata": {
    "papermill": {
     "duration": null,
     "end_time": null,
     "exception": null,
     "start_time": null,
     "status": "pending"
    },
    "tags": []
   },
   "outputs": [],
   "source": [
    "def get_softmax_scores(model, dataloader):\n",
    "    scores = []\n",
    "    outputs_raw = []\n",
    "    device = next(model.parameters()).device  # Get the device of the model's parameters\n",
    "\n",
    "    with torch.no_grad():\n",
    "        for inputs, _ in dataloader:\n",
    "            inputs = inputs.to(device)  # Move inputs to the same device as the model\n",
    "            outputs = model(inputs)\n",
    "            softmax_scores = F.softmax(outputs, dim=1)\n",
    "            scores.append(softmax_scores)\n",
    "            outputs_raw.append(outputs)\n",
    "\n",
    "    scores = torch.cat(scores)\n",
    "    outputs_raw = torch.cat(outputs_raw)\n",
    "    return scores, outputs_raw"
   ]
  },
  {
   "cell_type": "code",
   "execution_count": null,
   "id": "a66a5274",
   "metadata": {
    "papermill": {
     "duration": null,
     "end_time": null,
     "exception": null,
     "start_time": null,
     "status": "pending"
    },
    "tags": []
   },
   "outputs": [],
   "source": [
    "brain_softmax_scores,scores_brain = get_softmax_scores(resnet50, testloader)  # MNIST softmax scores (ID)\n",
    "print(len(brain_softmax_scores))\n",
    "\n",
    "chest_softmax_scores,scores_chest = get_softmax_scores(resnet50, testloader_chest)  \n",
    "print(len(chest_softmax_scores))"
   ]
  },
  {
   "cell_type": "code",
   "execution_count": null,
   "id": "07097922",
   "metadata": {
    "papermill": {
     "duration": null,
     "end_time": null,
     "exception": null,
     "start_time": null,
     "status": "pending"
    },
    "tags": []
   },
   "outputs": [],
   "source": [
    "threshold = 0.9  # Adjust as needed\n",
    "\n",
    "def classify_samples(softmax_scores, threshold):\n",
    "    max_scores, _ = torch.max(softmax_scores, dim=1)\n",
    "    ood_samples = max_scores < threshold\n",
    "    return ood_samples,max_scores"
   ]
  },
  {
   "cell_type": "code",
   "execution_count": null,
   "id": "39d6125a",
   "metadata": {
    "papermill": {
     "duration": null,
     "end_time": null,
     "exception": null,
     "start_time": null,
     "status": "pending"
    },
    "tags": []
   },
   "outputs": [],
   "source": [
    "brain_ood_samples,max_brain = classify_samples(brain_softmax_scores, threshold)\n",
    "chest_ood_samples,max_chest = classify_samples(chest_softmax_scores, threshold)"
   ]
  },
  {
   "cell_type": "code",
   "execution_count": null,
   "id": "87d445aa",
   "metadata": {
    "papermill": {
     "duration": null,
     "end_time": null,
     "exception": null,
     "start_time": null,
     "status": "pending"
    },
    "tags": []
   },
   "outputs": [],
   "source": [
    "#print(brain_ood_samples,chest_ood_samples)\n",
    "print(len(brain_softmax_scores))\n",
    "print(len(chest_softmax_scores))\n",
    "print(torch.sum(brain_ood_samples).item())\n",
    "print(torch.sum(chest_ood_samples).item())"
   ]
  },
  {
   "cell_type": "code",
   "execution_count": null,
   "id": "8350ec4c",
   "metadata": {
    "papermill": {
     "duration": null,
     "end_time": null,
     "exception": null,
     "start_time": null,
     "status": "pending"
    },
    "tags": []
   },
   "outputs": [],
   "source": [
    "# Transfer tensors from GPU to CPU\n",
    "max_brain_cpu = max_brain.cpu().numpy()\n",
    "max_chest_cpu = max_chest.cpu().numpy()\n",
    "# Create a KDE plot\n",
    "sns.kdeplot(max_brain_cpu, shade=True, color = \"blue\")\n",
    "sns.kdeplot(max_chest_cpu, shade=True, color = \"yellow\")\n",
    "\n",
    "\n",
    "# Customize the plot\n",
    "plt.xlabel(\"Max softmax Score\")\n",
    "plt.ylabel(\"Density\")\n",
    "plt.title(\"Softmax Scores Distribution (KDE Plot)\")\n",
    "\n",
    "# Display the plot or save it to a file\n",
    "plt.show()"
   ]
  },
  {
   "cell_type": "code",
   "execution_count": null,
   "id": "99049f11",
   "metadata": {
    "papermill": {
     "duration": null,
     "end_time": null,
     "exception": null,
     "start_time": null,
     "status": "pending"
    },
    "tags": []
   },
   "outputs": [],
   "source": [
    "d=2\n",
    "def energy(out, axis = 1, numpy = True, T = 1, correction = False , ty='not_num'): #actually takes negative energy\n",
    "    print(\"Called\")\n",
    "\n",
    "    if ty == 'not_num':\n",
    "        #print(\"correct\")\n",
    "        #out = out.detach().numpy()\n",
    "\n",
    "        #print(out)\n",
    "        #denominator of softmax np.sum(np.exp(out/T)\n",
    "        scores = T*np.log(np.sum(np.exp(out/T), axis = axis))\n",
    "    if correction:\n",
    "        print(\"here\")\n",
    "        scores -= T*np.log(d)\n",
    "\n",
    "    return scores"
   ]
  },
  {
   "cell_type": "code",
   "execution_count": null,
   "id": "2e4cdc51",
   "metadata": {
    "papermill": {
     "duration": null,
     "end_time": null,
     "exception": null,
     "start_time": null,
     "status": "pending"
    },
    "tags": []
   },
   "outputs": [],
   "source": [
    "scores_brain_cpu = scores_brain.cpu().numpy()\n",
    "scores_chest_cpu = scores_chest.cpu().numpy()\n",
    "# Energy Scores\n",
    "ID_energy_score = energy(scores_brain_cpu)\n",
    "OOD_energy_score = energy(scores_chest_cpu)"
   ]
  },
  {
   "cell_type": "code",
   "execution_count": null,
   "id": "eaf20acf",
   "metadata": {
    "papermill": {
     "duration": null,
     "end_time": null,
     "exception": null,
     "start_time": null,
     "status": "pending"
    },
    "tags": []
   },
   "outputs": [],
   "source": [
    "# Create a KDE plot\n",
    "sns.kdeplot(ID_energy_score, shade=True, color = \"blue\")\n",
    "sns.kdeplot(OOD_energy_score, shade=True, color = \"yellow\")\n",
    "\n",
    "\n",
    "# Customize the plot\n",
    "plt.xlabel(\"Energy Score\")\n",
    "plt.ylabel(\"Density\")\n",
    "plt.title(\"Energy Scores Distribution (KDE Plot)\")\n",
    "\n",
    "# Display the plot or save it to a file\n",
    "plt.show()\n"
   ]
  },
  {
   "cell_type": "code",
   "execution_count": null,
   "id": "93555e29",
   "metadata": {
    "papermill": {
     "duration": null,
     "end_time": null,
     "exception": null,
     "start_time": null,
     "status": "pending"
    },
    "tags": []
   },
   "outputs": [],
   "source": [
    "import numpy as np\n",
    "import matplotlib.pyplot as plt\n",
    "\n",
    "def thresholdize(distID, distOOD, alpha=0.5, plot=True):\n",
    "    distID = distID[np.isfinite(distID)]\n",
    "    distOOD = distOOD[np.isfinite(distOOD)]\n",
    "\n",
    "    densID, binsID, _ = plt.hist(distID, bins=100, density=True, alpha=0.5, label='ID')\n",
    "    densOOD, binsOOD, _ = plt.hist(distOOD, bins=100, density=True, alpha=0.5, label='OOD')\n",
    "\n",
    "    if not plot:\n",
    "        plt.clf()\n",
    "\n",
    "    widthID = binsID[1] - binsID[0]\n",
    "    widthOOD = binsOOD[1] - binsOOD[0]\n",
    "    n = len(densID)\n",
    "\n",
    "    low = np.min([binsID[0], binsOOD[0]])\n",
    "    high = np.max([binsID[-1], binsOOD[-1]])\n",
    "    thresholds = np.linspace(low, high, n)\n",
    "\n",
    "    massID = np.zeros(n)\n",
    "    massOOD = np.zeros(n)\n",
    "\n",
    "    for i, x in enumerate(thresholds):\n",
    "        massOOD[i] = np.sum(densOOD[binsOOD[:-1] < x]) * widthOOD\n",
    "        massID[i] = np.sum(densID[binsID[:-1] >= x]) * widthID\n",
    "\n",
    "    total = 2 * (alpha * massOOD + (1 - alpha) * massID)\n",
    "    thresIdx = np.argmax(total)\n",
    "    threshold = thresholds[thresIdx]\n",
    "    bestTotal = np.max(total)  # not very intuitive when using alpha-thresholding\n",
    "\n",
    "    if plot:\n",
    "        plt.vlines(threshold, 0, 1.1 * np.max(densOOD), label='Threshold', linestyles='dashed')\n",
    "        plt.legend()\n",
    "\n",
    "        plt.figure()\n",
    "        plt.plot(thresholds, massID, label='ID mass right')\n",
    "        plt.plot(thresholds, massOOD, label='OOD mass left')\n",
    "        plt.plot(thresholds, total, label='Total')\n",
    "        plt.vlines(threshold, 0, 1.1 * np.max(total), label='Threshold', linestyles='dashed')\n",
    "        plt.legend()\n",
    "\n",
    "        falseOOD = 1.0 - massID[thresIdx]\n",
    "        falseID = 1.0 - massOOD[thresIdx]\n",
    "\n",
    "        print(f\"Fraction of OOD data falsely classified as ID is {falseID:.3g}\")\n",
    "        print(f\"Fraction of ID data falsely classified as OOD is {falseOOD:.3g}\")\n",
    "\n",
    "    return threshold\n"
   ]
  },
  {
   "cell_type": "code",
   "execution_count": null,
   "id": "30d505bf",
   "metadata": {
    "papermill": {
     "duration": null,
     "end_time": null,
     "exception": null,
     "start_time": null,
     "status": "pending"
    },
    "tags": []
   },
   "outputs": [],
   "source": [
    "thr = thresholdize(ID_energy_score,OOD_energy_score)"
   ]
  }
 ],
 "metadata": {
  "kernelspec": {
   "display_name": "Python 3 (ipykernel)",
   "language": "python",
   "name": "python3"
  },
  "language_info": {
   "codemirror_mode": {
    "name": "ipython",
    "version": 3
   },
   "file_extension": ".py",
   "mimetype": "text/x-python",
   "name": "python",
   "nbconvert_exporter": "python",
   "pygments_lexer": "ipython3",
   "version": "3.10.4"
  },
  "papermill": {
   "default_parameters": {},
   "duration": 3506.131104,
   "end_time": "2023-10-13T02:59:55.876962",
   "environment_variables": {},
   "exception": true,
   "input_path": "__notebook__.ipynb",
   "output_path": "__notebook__.ipynb",
   "parameters": {},
   "start_time": "2023-10-13T02:01:29.745858",
   "version": "2.4.0"
  },
  "widgets": {
   "application/vnd.jupyter.widget-state+json": {
    "state": {
     "089f6686169d4573a5d55b0b4919c2bc": {
      "model_module": "@jupyter-widgets/controls",
      "model_module_version": "1.5.0",
      "model_name": "HTMLModel",
      "state": {
       "_dom_classes": [],
       "_model_module": "@jupyter-widgets/controls",
       "_model_module_version": "1.5.0",
       "_model_name": "HTMLModel",
       "_view_count": null,
       "_view_module": "@jupyter-widgets/controls",
       "_view_module_version": "1.5.0",
       "_view_name": "HTMLView",
       "description": "",
       "description_tooltip": null,
       "layout": "IPY_MODEL_89d2d835ac874915af0e90d19571dba4",
       "placeholder": "​",
       "style": "IPY_MODEL_9609e95e538f41d9a5e2ea32d77d10fe",
       "value": " 20/150 [57:47&lt;5:56:34, 164.57s/it]"
      }
     },
     "1290e4a953df4a59b01c8446b45d2057": {
      "model_module": "@jupyter-widgets/base",
      "model_module_version": "1.2.0",
      "model_name": "LayoutModel",
      "state": {
       "_model_module": "@jupyter-widgets/base",
       "_model_module_version": "1.2.0",
       "_model_name": "LayoutModel",
       "_view_count": null,
       "_view_module": "@jupyter-widgets/base",
       "_view_module_version": "1.2.0",
       "_view_name": "LayoutView",
       "align_content": null,
       "align_items": null,
       "align_self": null,
       "border": null,
       "bottom": null,
       "display": null,
       "flex": null,
       "flex_flow": null,
       "grid_area": null,
       "grid_auto_columns": null,
       "grid_auto_flow": null,
       "grid_auto_rows": null,
       "grid_column": null,
       "grid_gap": null,
       "grid_row": null,
       "grid_template_areas": null,
       "grid_template_columns": null,
       "grid_template_rows": null,
       "height": null,
       "justify_content": null,
       "justify_items": null,
       "left": null,
       "margin": null,
       "max_height": null,
       "max_width": null,
       "min_height": null,
       "min_width": null,
       "object_fit": null,
       "object_position": null,
       "order": null,
       "overflow": null,
       "overflow_x": null,
       "overflow_y": null,
       "padding": null,
       "right": null,
       "top": null,
       "visibility": null,
       "width": null
      }
     },
     "144dfa50c399457b91244d9a0d2950f6": {
      "model_module": "@jupyter-widgets/controls",
      "model_module_version": "1.5.0",
      "model_name": "DescriptionStyleModel",
      "state": {
       "_model_module": "@jupyter-widgets/controls",
       "_model_module_version": "1.5.0",
       "_model_name": "DescriptionStyleModel",
       "_view_count": null,
       "_view_module": "@jupyter-widgets/base",
       "_view_module_version": "1.2.0",
       "_view_name": "StyleView",
       "description_width": ""
      }
     },
     "1edd2fd1391f42dcbaae0d654ba8b045": {
      "model_module": "@jupyter-widgets/base",
      "model_module_version": "1.2.0",
      "model_name": "LayoutModel",
      "state": {
       "_model_module": "@jupyter-widgets/base",
       "_model_module_version": "1.2.0",
       "_model_name": "LayoutModel",
       "_view_count": null,
       "_view_module": "@jupyter-widgets/base",
       "_view_module_version": "1.2.0",
       "_view_name": "LayoutView",
       "align_content": null,
       "align_items": null,
       "align_self": null,
       "border": null,
       "bottom": null,
       "display": null,
       "flex": null,
       "flex_flow": null,
       "grid_area": null,
       "grid_auto_columns": null,
       "grid_auto_flow": null,
       "grid_auto_rows": null,
       "grid_column": null,
       "grid_gap": null,
       "grid_row": null,
       "grid_template_areas": null,
       "grid_template_columns": null,
       "grid_template_rows": null,
       "height": null,
       "justify_content": null,
       "justify_items": null,
       "left": null,
       "margin": null,
       "max_height": null,
       "max_width": null,
       "min_height": null,
       "min_width": null,
       "object_fit": null,
       "object_position": null,
       "order": null,
       "overflow": null,
       "overflow_x": null,
       "overflow_y": null,
       "padding": null,
       "right": null,
       "top": null,
       "visibility": null,
       "width": null
      }
     },
     "3c4faee8f3f540cf855ed685508d6575": {
      "model_module": "@jupyter-widgets/base",
      "model_module_version": "1.2.0",
      "model_name": "LayoutModel",
      "state": {
       "_model_module": "@jupyter-widgets/base",
       "_model_module_version": "1.2.0",
       "_model_name": "LayoutModel",
       "_view_count": null,
       "_view_module": "@jupyter-widgets/base",
       "_view_module_version": "1.2.0",
       "_view_name": "LayoutView",
       "align_content": null,
       "align_items": null,
       "align_self": null,
       "border": null,
       "bottom": null,
       "display": null,
       "flex": null,
       "flex_flow": null,
       "grid_area": null,
       "grid_auto_columns": null,
       "grid_auto_flow": null,
       "grid_auto_rows": null,
       "grid_column": null,
       "grid_gap": null,
       "grid_row": null,
       "grid_template_areas": null,
       "grid_template_columns": null,
       "grid_template_rows": null,
       "height": null,
       "justify_content": null,
       "justify_items": null,
       "left": null,
       "margin": null,
       "max_height": null,
       "max_width": null,
       "min_height": null,
       "min_width": null,
       "object_fit": null,
       "object_position": null,
       "order": null,
       "overflow": null,
       "overflow_x": null,
       "overflow_y": null,
       "padding": null,
       "right": null,
       "top": null,
       "visibility": null,
       "width": null
      }
     },
     "3e5363db3d754ab4a8bd551d127d9aff": {
      "model_module": "@jupyter-widgets/controls",
      "model_module_version": "1.5.0",
      "model_name": "FloatProgressModel",
      "state": {
       "_dom_classes": [],
       "_model_module": "@jupyter-widgets/controls",
       "_model_module_version": "1.5.0",
       "_model_name": "FloatProgressModel",
       "_view_count": null,
       "_view_module": "@jupyter-widgets/controls",
       "_view_module_version": "1.5.0",
       "_view_name": "ProgressView",
       "bar_style": "danger",
       "description": "",
       "description_tooltip": null,
       "layout": "IPY_MODEL_3c4faee8f3f540cf855ed685508d6575",
       "max": 150,
       "min": 0,
       "orientation": "horizontal",
       "style": "IPY_MODEL_a360f0c77cee499097c931a97ba81d67",
       "value": 20
      }
     },
     "89d2d835ac874915af0e90d19571dba4": {
      "model_module": "@jupyter-widgets/base",
      "model_module_version": "1.2.0",
      "model_name": "LayoutModel",
      "state": {
       "_model_module": "@jupyter-widgets/base",
       "_model_module_version": "1.2.0",
       "_model_name": "LayoutModel",
       "_view_count": null,
       "_view_module": "@jupyter-widgets/base",
       "_view_module_version": "1.2.0",
       "_view_name": "LayoutView",
       "align_content": null,
       "align_items": null,
       "align_self": null,
       "border": null,
       "bottom": null,
       "display": null,
       "flex": null,
       "flex_flow": null,
       "grid_area": null,
       "grid_auto_columns": null,
       "grid_auto_flow": null,
       "grid_auto_rows": null,
       "grid_column": null,
       "grid_gap": null,
       "grid_row": null,
       "grid_template_areas": null,
       "grid_template_columns": null,
       "grid_template_rows": null,
       "height": null,
       "justify_content": null,
       "justify_items": null,
       "left": null,
       "margin": null,
       "max_height": null,
       "max_width": null,
       "min_height": null,
       "min_width": null,
       "object_fit": null,
       "object_position": null,
       "order": null,
       "overflow": null,
       "overflow_x": null,
       "overflow_y": null,
       "padding": null,
       "right": null,
       "top": null,
       "visibility": null,
       "width": null
      }
     },
     "9609e95e538f41d9a5e2ea32d77d10fe": {
      "model_module": "@jupyter-widgets/controls",
      "model_module_version": "1.5.0",
      "model_name": "DescriptionStyleModel",
      "state": {
       "_model_module": "@jupyter-widgets/controls",
       "_model_module_version": "1.5.0",
       "_model_name": "DescriptionStyleModel",
       "_view_count": null,
       "_view_module": "@jupyter-widgets/base",
       "_view_module_version": "1.2.0",
       "_view_name": "StyleView",
       "description_width": ""
      }
     },
     "a360f0c77cee499097c931a97ba81d67": {
      "model_module": "@jupyter-widgets/controls",
      "model_module_version": "1.5.0",
      "model_name": "ProgressStyleModel",
      "state": {
       "_model_module": "@jupyter-widgets/controls",
       "_model_module_version": "1.5.0",
       "_model_name": "ProgressStyleModel",
       "_view_count": null,
       "_view_module": "@jupyter-widgets/base",
       "_view_module_version": "1.2.0",
       "_view_name": "StyleView",
       "bar_color": null,
       "description_width": ""
      }
     },
     "d705f414a2484dc4b8b88abfa3f1bc87": {
      "model_module": "@jupyter-widgets/controls",
      "model_module_version": "1.5.0",
      "model_name": "HTMLModel",
      "state": {
       "_dom_classes": [],
       "_model_module": "@jupyter-widgets/controls",
       "_model_module_version": "1.5.0",
       "_model_name": "HTMLModel",
       "_view_count": null,
       "_view_module": "@jupyter-widgets/controls",
       "_view_module_version": "1.5.0",
       "_view_name": "HTMLView",
       "description": "",
       "description_tooltip": null,
       "layout": "IPY_MODEL_1edd2fd1391f42dcbaae0d654ba8b045",
       "placeholder": "​",
       "style": "IPY_MODEL_144dfa50c399457b91244d9a0d2950f6",
       "value": " 13%"
      }
     },
     "db6ef71198954f45822b5536e191b5a8": {
      "model_module": "@jupyter-widgets/controls",
      "model_module_version": "1.5.0",
      "model_name": "HBoxModel",
      "state": {
       "_dom_classes": [],
       "_model_module": "@jupyter-widgets/controls",
       "_model_module_version": "1.5.0",
       "_model_name": "HBoxModel",
       "_view_count": null,
       "_view_module": "@jupyter-widgets/controls",
       "_view_module_version": "1.5.0",
       "_view_name": "HBoxView",
       "box_style": "",
       "children": [
        "IPY_MODEL_d705f414a2484dc4b8b88abfa3f1bc87",
        "IPY_MODEL_3e5363db3d754ab4a8bd551d127d9aff",
        "IPY_MODEL_089f6686169d4573a5d55b0b4919c2bc"
       ],
       "layout": "IPY_MODEL_1290e4a953df4a59b01c8446b45d2057"
      }
     }
    },
    "version_major": 2,
    "version_minor": 0
   }
  }
 },
 "nbformat": 4,
 "nbformat_minor": 5
}
