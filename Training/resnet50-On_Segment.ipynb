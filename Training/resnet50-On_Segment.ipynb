{
 "cells": [
  {
   "cell_type": "code",
   "execution_count": 1,
   "id": "d6cc34b4",
   "metadata": {
    "execution": {
     "iopub.execute_input": "2023-10-13T02:01:32.732963Z",
     "iopub.status.busy": "2023-10-13T02:01:32.732634Z",
     "iopub.status.idle": "2023-10-13T02:01:38.235547Z",
     "shell.execute_reply": "2023-10-13T02:01:38.234637Z"
    },
    "papermill": {
     "duration": 5.511649,
     "end_time": "2023-10-13T02:01:38.237663",
     "exception": false,
     "start_time": "2023-10-13T02:01:32.726014",
     "status": "completed"
    },
    "tags": []
   },
   "outputs": [],
   "source": [
    "import torch\n",
    "import torch.nn as nn\n",
    "import torch.optim as optim\n",
    "import torchvision.transforms as transforms\n",
    "import torchvision.models as models\n",
    "from torch.utils.data import DataLoader, Dataset\n",
    "from torchvision.datasets import ImageFolder\n",
    "import os,gc\n",
    "import torch.nn.functional as F\n",
    "import seaborn as sns\n",
    "import numpy as np  \n",
    "import random as rnd\n",
    "\n",
    "\n"
   ]
  },
  {
   "cell_type": "code",
   "execution_count": 2,
   "id": "33b13a97",
   "metadata": {
    "execution": {
     "iopub.execute_input": "2023-10-13T02:01:38.250135Z",
     "iopub.status.busy": "2023-10-13T02:01:38.249739Z",
     "iopub.status.idle": "2023-10-13T02:01:40.930405Z",
     "shell.execute_reply": "2023-10-13T02:01:40.929414Z"
    },
    "papermill": {
     "duration": 2.689595,
     "end_time": "2023-10-13T02:01:40.932655",
     "exception": false,
     "start_time": "2023-10-13T02:01:38.243060",
     "status": "completed"
    },
    "tags": []
   },
   "outputs": [],
   "source": [
    "custom_data_path = './seg/brain-tumor-mri-dataset'\n",
    "trainset = ImageFolder(root=os.path.join(custom_data_path, 'Training'), transform=transforms.ToTensor())\n"
   ]
  },
  {
   "cell_type": "code",
   "execution_count": 3,
   "id": "7a9f4145",
   "metadata": {
    "execution": {
     "iopub.execute_input": "2023-10-13T02:01:40.944432Z",
     "iopub.status.busy": "2023-10-13T02:01:40.943642Z",
     "iopub.status.idle": "2023-10-13T02:01:40.948907Z",
     "shell.execute_reply": "2023-10-13T02:01:40.947771Z"
    },
    "papermill": {
     "duration": 0.012492,
     "end_time": "2023-10-13T02:01:40.950594",
     "exception": false,
     "start_time": "2023-10-13T02:01:40.938102",
     "status": "completed"
    },
    "tags": []
   },
   "outputs": [
    {
     "name": "stdout",
     "output_type": "stream",
     "text": [
      "5712\n"
     ]
    }
   ],
   "source": [
    "print(len(trainset))"
   ]
  },
  {
   "cell_type": "code",
   "execution_count": 4,
   "id": "231e2179",
   "metadata": {
    "execution": {
     "iopub.execute_input": "2023-10-13T02:01:40.961046Z",
     "iopub.status.busy": "2023-10-13T02:01:40.960810Z",
     "iopub.status.idle": "2023-10-13T02:01:42.255012Z",
     "shell.execute_reply": "2023-10-13T02:01:42.254028Z"
    },
    "papermill": {
     "duration": 1.301857,
     "end_time": "2023-10-13T02:01:42.257225",
     "exception": false,
     "start_time": "2023-10-13T02:01:40.955368",
     "status": "completed"
    },
    "tags": []
   },
   "outputs": [],
   "source": [
    "trainloader = torch.utils.data.DataLoader(trainset, batch_size=512, shuffle=False) #CHANGED: No need to load such big batch_size. With bigger datasets it may play a bad joke\n",
    "data = next(iter(trainloader))[0]\n",
    "mean = data.mean(axis=(0, 2, 3))\n",
    "std = data.std(axis=(0, 2, 3))"
   ]
  },
  {
   "cell_type": "code",
   "execution_count": 5,
   "id": "b6f805a3",
   "metadata": {
    "execution": {
     "iopub.execute_input": "2023-10-13T02:01:42.270089Z",
     "iopub.status.busy": "2023-10-13T02:01:42.269541Z",
     "iopub.status.idle": "2023-10-13T02:01:42.296655Z",
     "shell.execute_reply": "2023-10-13T02:01:42.295773Z"
    },
    "papermill": {
     "duration": 0.034811,
     "end_time": "2023-10-13T02:01:42.298386",
     "exception": false,
     "start_time": "2023-10-13T02:01:42.263575",
     "status": "completed"
    },
    "tags": []
   },
   "outputs": [
    {
     "name": "stdout",
     "output_type": "stream",
     "text": [
      "tensor([0.5594, 0.5578, 0.5536]) tensor([0.3917, 0.3917, 0.3950])\n"
     ]
    }
   ],
   "source": [
    "print(mean,std)"
   ]
  },
  {
   "cell_type": "code",
   "execution_count": 6,
   "id": "e182a2c8",
   "metadata": {
    "execution": {
     "iopub.execute_input": "2023-10-13T02:01:42.308842Z",
     "iopub.status.busy": "2023-10-13T02:01:42.308586Z",
     "iopub.status.idle": "2023-10-13T02:01:42.312456Z",
     "shell.execute_reply": "2023-10-13T02:01:42.311551Z"
    },
    "papermill": {
     "duration": 0.011081,
     "end_time": "2023-10-13T02:01:42.314198",
     "exception": false,
     "start_time": "2023-10-13T02:01:42.303117",
     "status": "completed"
    },
    "tags": []
   },
   "outputs": [],
   "source": [
    "normalize = transforms.Normalize(mean=mean, std=std)\n"
   ]
  },
  {
   "cell_type": "code",
   "execution_count": 7,
   "id": "f8465c35",
   "metadata": {
    "execution": {
     "iopub.execute_input": "2023-10-13T02:01:42.324941Z",
     "iopub.status.busy": "2023-10-13T02:01:42.324399Z",
     "iopub.status.idle": "2023-10-13T02:01:42.329537Z",
     "shell.execute_reply": "2023-10-13T02:01:42.328758Z"
    },
    "papermill": {
     "duration": 0.012276,
     "end_time": "2023-10-13T02:01:42.331216",
     "exception": false,
     "start_time": "2023-10-13T02:01:42.318940",
     "status": "completed"
    },
    "tags": []
   },
   "outputs": [],
   "source": [
    "# Define data augmentation and normalization transforms\n",
    "\n",
    "\n",
    "shape = (350,350) # (350,350)\n",
    "#CHANGED: We can safely transform to 512x512. Even bigger, if training goes good\n",
    "transform_train = transforms.Compose([\n",
    "    transforms.RandomHorizontalFlip(),\n",
    "    transforms.Resize(shape),\n",
    "    transforms.ToTensor(),\n",
    "   normalize\n",
    "])\n",
    "\n",
    "transform_test = transforms.Compose([\n",
    "    transforms.ToTensor(),\n",
    "    transforms.Resize(shape),\n",
    "    normalize\n",
    "])"
   ]
  },
  {
   "cell_type": "code",
   "execution_count": 8,
   "id": "9bedcf8e",
   "metadata": {
    "execution": {
     "iopub.execute_input": "2023-10-13T02:01:42.342293Z",
     "iopub.status.busy": "2023-10-13T02:01:42.341507Z",
     "iopub.status.idle": "2023-10-13T02:01:43.098637Z",
     "shell.execute_reply": "2023-10-13T02:01:43.097753Z"
    },
    "papermill": {
     "duration": 0.764462,
     "end_time": "2023-10-13T02:01:43.100511",
     "exception": false,
     "start_time": "2023-10-13T02:01:42.336049",
     "status": "completed"
    },
    "tags": []
   },
   "outputs": [
    {
     "name": "stderr",
     "output_type": "stream",
     "text": [
      "/sw/arch/RHEL8/EB_production/2022/software/PyTorch/1.12.0-foss-2022a-CUDA-11.7.0/lib/python3.10/site-packages/torch/utils/data/dataloader.py:557: UserWarning: This DataLoader will create 8 worker processes in total. Our suggested max number of worker in current system is 2, which is smaller than what this DataLoader is going to create. Please be aware that excessive worker creation might get DataLoader running slow or even freeze, lower the worker number to avoid potential slowness/freeze if necessary.\n",
      "  warnings.warn(_create_warning_msg(\n",
      "/sw/arch/RHEL8/EB_production/2022/software/PyTorch/1.12.0-foss-2022a-CUDA-11.7.0/lib/python3.10/site-packages/torch/utils/data/dataloader.py:557: UserWarning: This DataLoader will create 4 worker processes in total. Our suggested max number of worker in current system is 2, which is smaller than what this DataLoader is going to create. Please be aware that excessive worker creation might get DataLoader running slow or even freeze, lower the worker number to avoid potential slowness/freeze if necessary.\n",
      "  warnings.warn(_create_warning_msg(\n"
     ]
    }
   ],
   "source": [
    "batch_size = 16\n",
    "# Use ImageFolder to create a dataset\n",
    "#labels are given as 0,1,2\n",
    "#first folder has label 0 and so on\n",
    "trainset = ImageFolder(root=os.path.join(custom_data_path, 'Training'), transform=transform_train)\n",
    "trainloader = torch.utils.data.DataLoader(trainset, batch_size=batch_size, shuffle=True, num_workers=8)\n",
    "\n",
    "testset = ImageFolder(root=os.path.join(custom_data_path, 'Testing'), transform=transform_test)\n",
    "testloader = torch.utils.data.DataLoader(testset, batch_size=batch_size, shuffle=False, num_workers=4)"
   ]
  },
  {
   "cell_type": "code",
   "execution_count": 9,
   "id": "281d33a5",
   "metadata": {
    "execution": {
     "iopub.execute_input": "2023-10-13T02:01:43.112645Z",
     "iopub.status.busy": "2023-10-13T02:01:43.111811Z",
     "iopub.status.idle": "2023-10-13T02:01:43.117030Z",
     "shell.execute_reply": "2023-10-13T02:01:43.115977Z"
    },
    "papermill": {
     "duration": 0.013225,
     "end_time": "2023-10-13T02:01:43.118920",
     "exception": false,
     "start_time": "2023-10-13T02:01:43.105695",
     "status": "completed"
    },
    "tags": []
   },
   "outputs": [
    {
     "name": "stdout",
     "output_type": "stream",
     "text": [
      "7023\n"
     ]
    }
   ],
   "source": [
    "print(len(trainset) + len(testset))"
   ]
  },
  {
   "cell_type": "code",
   "execution_count": 10,
   "id": "bc6dca88",
   "metadata": {
    "execution": {
     "iopub.execute_input": "2023-10-13T02:01:43.130729Z",
     "iopub.status.busy": "2023-10-13T02:01:43.129908Z",
     "iopub.status.idle": "2023-10-13T02:01:46.703718Z",
     "shell.execute_reply": "2023-10-13T02:01:46.702829Z"
    },
    "papermill": {
     "duration": 3.581745,
     "end_time": "2023-10-13T02:01:46.705779",
     "exception": false,
     "start_time": "2023-10-13T02:01:43.124034",
     "status": "completed"
    },
    "tags": []
   },
   "outputs": [],
   "source": [
    "%%capture\n",
    "\n",
    "# Define the ResNet model\n",
    "\n",
    "resnet50 = models.resnet50(pretrained=False)  \n",
    "\n",
    "criterion = nn.CrossEntropyLoss()\n",
    "optimizer = optim.SGD(resnet50.parameters(), lr=1e-1, momentum=0.9, weight_decay=1e-4, nesterov=True) \n",
    "\n",
    "\n",
    "import torch.optim.lr_scheduler as lr_scheduler\n",
    "\n",
    "#CHANGED\n",
    "scheduler = lr_scheduler.ReduceLROnPlateau(optimizer, 'max', patience = 5, verbose=True)\n",
    "\n",
    "# Training loop\n",
    "device = torch.device(\"cuda\" if torch.cuda.is_available() else \"cpu\")\n",
    "resnet50.to(device)"
   ]
  },
  {
   "cell_type": "code",
   "execution_count": 11,
   "id": "814655b7",
   "metadata": {
    "execution": {
     "iopub.execute_input": "2023-10-13T02:01:46.717128Z",
     "iopub.status.busy": "2023-10-13T02:01:46.716572Z",
     "iopub.status.idle": "2023-10-13T02:01:46.722154Z",
     "shell.execute_reply": "2023-10-13T02:01:46.721245Z"
    },
    "papermill": {
     "duration": 0.012971,
     "end_time": "2023-10-13T02:01:46.723809",
     "exception": false,
     "start_time": "2023-10-13T02:01:46.710838",
     "status": "completed"
    },
    "tags": []
   },
   "outputs": [
    {
     "name": "stdout",
     "output_type": "stream",
     "text": [
      "Cuda\n"
     ]
    }
   ],
   "source": [
    "num_epochs = 150\n",
    "# Check if a CUDA-enabled GPU is available\n",
    "if torch.cuda.is_available():\n",
    "    # Set the device to CUDA\n",
    "    device = torch.device(\"cuda\")\n",
    "    print(\"Cuda\")\n",
    "else:\n",
    "    # If CUDA is not available, use the CPU\n",
    "    device = torch.device(\"cpu\")\n"
   ]
  },
  {
   "cell_type": "code",
   "execution_count": 12,
   "id": "5c326628",
   "metadata": {
    "execution": {
     "iopub.execute_input": "2023-10-13T02:01:46.738155Z",
     "iopub.status.busy": "2023-10-13T02:01:46.737633Z",
     "iopub.status.idle": "2023-10-13T02:01:46.742111Z",
     "shell.execute_reply": "2023-10-13T02:01:46.741199Z"
    },
    "papermill": {
     "duration": 0.014823,
     "end_time": "2023-10-13T02:01:46.743659",
     "exception": false,
     "start_time": "2023-10-13T02:01:46.728836",
     "status": "completed"
    },
    "tags": []
   },
   "outputs": [],
   "source": [
    "def save_model(model,after_lr,epoch,comments,optimizer):\n",
    "    checkpoint_path = \"./checkpoints/segment_res50x_\" + str(epoch) + comments+\"_epoch.pth\"\n",
    "    torch.save({\n",
    "        'epoch': epoch,\n",
    "        'lr':after_lr,\n",
    "        'model_state_dict': model.state_dict(),\n",
    "        'optimizer_state_dict': optimizer.state_dict(),\n",
    "        'loss': loss,\n",
    "    }, checkpoint_path)\n",
    "    print(f\"Model saved at epoch {epoch}\") \n",
    "    "
   ]
  },
  {
   "cell_type": "code",
   "execution_count": 13,
   "id": "1164ebbf",
   "metadata": {
    "execution": {
     "iopub.execute_input": "2023-10-13T02:01:46.754596Z",
     "iopub.status.busy": "2023-10-13T02:01:46.754131Z",
     "iopub.status.idle": "2023-10-13T02:01:46.759172Z",
     "shell.execute_reply": "2023-10-13T02:01:46.758240Z"
    },
    "papermill": {
     "duration": 0.012297,
     "end_time": "2023-10-13T02:01:46.760797",
     "exception": false,
     "start_time": "2023-10-13T02:01:46.748500",
     "status": "completed"
    },
    "tags": []
   },
   "outputs": [],
   "source": [
    "def validate_accuracy(model, dataloader, device):\n",
    "    model.eval()  # Set the model to evaluation mode\n",
    "    correct = 0\n",
    "    total = 0\n",
    "\n",
    "    with torch.no_grad():\n",
    "        for inputs, labels in dataloader:\n",
    "            inputs, labels = inputs.to(device), labels.to(device)\n",
    "\n",
    "            # Forward pass\n",
    "            outputs = model(inputs)\n",
    "\n",
    "            # Get predicted labels\n",
    "            _, predicted = torch.max(outputs, 1)\n",
    "\n",
    "            # Count total and correctly predicted labels\n",
    "            total += labels.size(0)\n",
    "            correct += (predicted == labels).sum().item()\n",
    "\n",
    "    accuracy = (correct / total) * 100.0\n",
    "\n",
    "    return accuracy\n"
   ]
  },
  {
   "cell_type": "code",
   "execution_count": 14,
   "id": "24f10de7",
   "metadata": {
    "execution": {
     "iopub.execute_input": "2023-10-13T02:01:46.771649Z",
     "iopub.status.busy": "2023-10-13T02:01:46.771002Z",
     "iopub.status.idle": "2023-10-13T02:01:46.775181Z",
     "shell.execute_reply": "2023-10-13T02:01:46.774435Z"
    },
    "papermill": {
     "duration": 0.011376,
     "end_time": "2023-10-13T02:01:46.776894",
     "exception": false,
     "start_time": "2023-10-13T02:01:46.765518",
     "status": "completed"
    },
    "tags": []
   },
   "outputs": [],
   "source": [
    "import warnings\n",
    "warnings.filterwarnings(\"ignore\")"
   ]
  },
  {
   "cell_type": "code",
   "execution_count": 15,
   "id": "7935383b",
   "metadata": {},
   "outputs": [],
   "source": [
    "\n",
    "    \n",
    "def resume(model, filename):\n",
    "    \n",
    "    checkpoint = torch.load(filename)\n",
    "    model.load_state_dict(checkpoint['model_state_dict'])\n",
    "    optimizer.load_state_dict(checkpoint['optimizer_state_dict'])\n",
    "    epoch = checkpoint['epoch']\n",
    "    lr = checkpoint['lr']\n",
    "    #print(lr)\n",
    "    return model, optimizer, lr, int(epoch)\n",
    "    \n",
    "\n",
    "    \n",
    "def save_model_end(model,lr,epoch,comments,optimizer):\n",
    "    checkpoint_path = \"./checkpoints/segment_res50x_\" + str(epoch) + comments+\"_epoch_TEMP.pth\"\n",
    "    torch.save({\n",
    "        'epoch': epoch,\n",
    "        'lr':lr,\n",
    "        'model_state_dict': model.state_dict(),\n",
    "        'optimizer_state_dict': optimizer.state_dict()\n",
    "    }, checkpoint_path)\n",
    "    print(f\"Model saved at epoch {epoch}\") "
   ]
  },
  {
   "cell_type": "code",
   "execution_count": 17,
   "id": "e73484d6",
   "metadata": {},
   "outputs": [
    {
     "name": "stdout",
     "output_type": "stream",
     "text": [
      "Do u want to load best model ? Y-yes, N-no yes\n",
      "Continue...\n"
     ]
    }
   ],
   "source": [
    "start_epoch=0\n",
    "\n",
    "rr = str(input(\"Do u want to load best model ? Y-yes, N-no \"))\n",
    "if (rr==\"yes\"):\n",
    "    print(\"Continue...\")\n",
    "    resnet50, optimizer, lr, start_epoch = resume(resnet50, \"./checkpoints/segment_res50x_65_IMPROVED__epoch_TEMP.pth\")\n",
    "    #print(optimizer.param_groups[0][\"lr\"] )\n",
    "else:\n",
    "    print(\"No input...\")"
   ]
  },
  {
   "cell_type": "code",
   "execution_count": 18,
   "id": "7dd416d3",
   "metadata": {
    "execution": {
     "iopub.execute_input": "2023-10-13T02:01:46.788189Z",
     "iopub.status.busy": "2023-10-13T02:01:46.787441Z",
     "iopub.status.idle": "2023-10-13T02:59:34.154301Z",
     "shell.execute_reply": "2023-10-13T02:59:34.153115Z"
    },
    "papermill": {
     "duration": 3467.374481,
     "end_time": "2023-10-13T02:59:34.156432",
     "exception": false,
     "start_time": "2023-10-13T02:01:46.781951",
     "status": "completed"
    },
    "tags": []
   },
   "outputs": [
    {
     "data": {
      "application/vnd.jupyter.widget-view+json": {
       "model_id": "0531e0d9dc424124aa214f9f4e70f7b8",
       "version_major": 2,
       "version_minor": 0
      },
      "text/plain": [
       "  0%|          | 0/85 [00:00<?, ?it/s]"
      ]
     },
     "metadata": {},
     "output_type": "display_data"
    },
    {
     "name": "stdout",
     "output_type": "stream",
     "text": [
      "Upgrading... Best acc:  84.05797101449275  Best Loss:  0.0612332222996937\n",
      "Model saved at epoch 65\n",
      "***************************************************************************\n",
      "Epoch 65, Loss: 0.0612332222996937 , Current best accuracy: 84.05797101449275\n",
      "Epoch 65: SGD lr 0.0000 -> 0.0000\n",
      "Upgrading... Best acc:  85.1258581235698  Best Loss:  0.061193745984390625\n",
      "Model saved at epoch 66\n",
      "***************************************************************************\n",
      "Epoch 70, Loss: 0.06590717011170477 , Current best accuracy: 85.1258581235698\n",
      "Epoch 70: SGD lr 0.0000 -> 0.0000\n",
      "Epoch 00008: reducing learning rate of group 0 to 1.0000e-06.\n",
      "***************************************************************************\n",
      "Epoch 75, Loss: 0.05856853077861191 , Current best accuracy: 85.1258581235698\n",
      "Epoch 75: SGD lr 0.0000 -> 0.0000\n",
      "Epoch 00014: reducing learning rate of group 0 to 1.0000e-07.\n",
      "***************************************************************************\n",
      "Epoch 80, Loss: 0.058809943153152466 , Current best accuracy: 85.1258581235698\n",
      "Epoch 80: SGD lr 0.0000 -> 0.0000\n",
      "Epoch 00020: reducing learning rate of group 0 to 1.0000e-08.\n",
      "***************************************************************************\n",
      "Epoch 85, Loss: 0.061093579474262666 , Current best accuracy: 85.1258581235698\n",
      "Epoch 85: SGD lr 0.0000 -> 0.0000\n",
      "Upgrading... Best acc:  85.27841342486651  Best Loss:  0.05939941457342304\n",
      "Model saved at epoch 88\n",
      "***************************************************************************\n",
      "Epoch 90, Loss: 0.0632972929891491 , Current best accuracy: 85.27841342486651\n",
      "Epoch 90: SGD lr 0.0000 -> 0.0000\n",
      "***************************************************************************\n",
      "Epoch 95, Loss: 0.06546872004466157 , Current best accuracy: 85.27841342486651\n",
      "Epoch 95: SGD lr 0.0000 -> 0.0000\n",
      "***************************************************************************\n",
      "Epoch 100, Loss: 0.0595676677493269 , Current best accuracy: 85.27841342486651\n",
      "Epoch 100: SGD lr 0.0000 -> 0.0000\n",
      "***************************************************************************\n",
      "Epoch 105, Loss: 0.06052978500379484 , Current best accuracy: 85.27841342486651\n",
      "Epoch 105: SGD lr 0.0000 -> 0.0000\n",
      "***************************************************************************\n",
      "Epoch 110, Loss: 0.06223093735312401 , Current best accuracy: 85.35469107551488\n",
      "Epoch 110: SGD lr 0.0000 -> 0.0000\n",
      "***************************************************************************\n",
      "Epoch 115, Loss: 0.06537576090134889 , Current best accuracy: 85.35469107551488\n",
      "Epoch 115: SGD lr 0.0000 -> 0.0000\n",
      "***************************************************************************\n",
      "Epoch 120, Loss: 0.059470442675134946 , Current best accuracy: 85.35469107551488\n",
      "Epoch 120: SGD lr 0.0000 -> 0.0000\n",
      "***************************************************************************\n",
      "Epoch 125, Loss: 0.05864885702001385 , Current best accuracy: 85.35469107551488\n",
      "Epoch 125: SGD lr 0.0000 -> 0.0000\n",
      "***************************************************************************\n",
      "Epoch 130, Loss: 0.05791098552270785 , Current best accuracy: 85.35469107551488\n",
      "Epoch 130: SGD lr 0.0000 -> 0.0000\n",
      "***************************************************************************\n",
      "Epoch 135, Loss: 0.06218151411162924 , Current best accuracy: 85.35469107551488\n",
      "Epoch 135: SGD lr 0.0000 -> 0.0000\n",
      "***************************************************************************\n",
      "Epoch 140, Loss: 0.06494906823136465 , Current best accuracy: 85.35469107551488\n",
      "Epoch 140: SGD lr 0.0000 -> 0.0000\n",
      "***************************************************************************\n",
      "Epoch 145, Loss: 0.06072794833658811 , Current best accuracy: 85.35469107551488\n",
      "Epoch 145: SGD lr 0.0000 -> 0.0000\n",
      "CPU times: user 2h 18min 51s, sys: 49min 19s, total: 3h 8min 11s\n",
      "Wall time: 3h 19min 39s\n"
     ]
    }
   ],
   "source": [
    "%%time\n",
    "\n",
    "from tqdm.auto import tqdm\n",
    "\n",
    "early_stop_thresh = 40\n",
    "best_accuracy = -1\n",
    "best_loss = 1000\n",
    "best_epoch = -1\n",
    "\n",
    "for epoch in tqdm(range(start_epoch, num_epochs)):\n",
    "    resnet50.train()\n",
    "    running_loss = 0.0\n",
    "\n",
    "    for i, data in enumerate(trainloader, 0):\n",
    "        inputs, labels = data\n",
    "        inputs, labels = inputs.to(device), labels.to(device)\n",
    "\n",
    "        optimizer.zero_grad()\n",
    "\n",
    "        outputs = resnet50(inputs)\n",
    "        loss = criterion(outputs, labels)\n",
    "        loss.backward()\n",
    "        optimizer.step()\n",
    "\n",
    "        running_loss += loss.item()\n",
    "    \n",
    "    \n",
    "    if epoch == 1:  # 50th epoch\n",
    "        save_model(resnet50,after_lr,str(epoch),'_1_',optimizer)\n",
    "        \n",
    "    \n",
    "    # Calculate validation accuracy\n",
    "    accuracy = validate_accuracy(resnet50, testloader, device)\n",
    "\n",
    "    if accuracy > best_accuracy:\n",
    "        best_accuracy = accuracy\n",
    "        best_epoch = epoch\n",
    "\n",
    "        if (((running_loss / len(trainloader)) < best_loss)  ):\n",
    "            best_loss=running_loss / len(trainloader)\n",
    "            print(\"Upgrading... Best acc: \",best_accuracy,\" Best Loss: \",best_loss )\n",
    "            save_model_end(resnet50,optimizer.param_groups[0][\"lr\"],str(epoch),\"_IMPROVED_\",optimizer)  \n",
    "        \n",
    "        \n",
    "    elif (epoch - best_epoch >= early_stop_thresh and epoch%early_stop_thresh==0 ):\n",
    "        print(f\"Early stopping after {early_stop_thresh} epochs without improvement in accuracy.\")\n",
    "        save_model(resnet50,after_lr,str(epoch),\"_best_one\",optimizer)\n",
    "        #checkpoint(model, f\"./checkpoints/seg_epoch-{epoch}.pth\")\n",
    "        print(\"#######\\nCurrent best accuracy: \",best_accuracy,\"\\n#######\")\n",
    "        break    \n",
    "        \n",
    "    \n",
    "    before_lr = optimizer.param_groups[0][\"lr\"]\n",
    "    scheduler.step(accuracy)\n",
    "    after_lr = optimizer.param_groups[0][\"lr\"]\n",
    "    \n",
    "    if (rnd.randint(0, 1)==1):\n",
    "        torch.cuda.empty_cache()\n",
    "        del data, labels,outputs, inputs\n",
    "        gc.collect()\n",
    "    \n",
    "    if ((epoch)%5==0):\n",
    "        print(\"*****\"*15)\n",
    "        print(f\"Epoch {epoch}, Loss: {running_loss / len(trainloader)} , Current best accuracy: {best_accuracy}\")\n",
    "    \n",
    "        #CHANGED ADDED THIS PART\n",
    "        print(\"Epoch %d: SGD lr %.4f -> %.4f\" % (epoch, before_lr, after_lr))\n",
    "        \n",
    "    \n",
    "    if (epoch==num_epochs):\n",
    "        print(\"#######\\nCurrent best accuracy: \",best_accuracy,\"\\n#######\")\n",
    "        \n",
    "        save_model_end(resnet50,after_lr,str(epoch),\"_FINISH_AT_END_\",optimizer)\n",
    "        "
   ]
  }
 ],
 "metadata": {
  "kernelspec": {
   "display_name": "Python 3 (ipykernel)",
   "language": "python",
   "name": "python3"
  },
  "language_info": {
   "codemirror_mode": {
    "name": "ipython",
    "version": 3
   },
   "file_extension": ".py",
   "mimetype": "text/x-python",
   "name": "python",
   "nbconvert_exporter": "python",
   "pygments_lexer": "ipython3",
   "version": "3.10.4"
  },
  "papermill": {
   "default_parameters": {},
   "duration": 3506.131104,
   "end_time": "2023-10-13T02:59:55.876962",
   "environment_variables": {},
   "exception": true,
   "input_path": "__notebook__.ipynb",
   "output_path": "__notebook__.ipynb",
   "parameters": {},
   "start_time": "2023-10-13T02:01:29.745858",
   "version": "2.4.0"
  },
  "widgets": {
   "application/vnd.jupyter.widget-state+json": {
    "state": {
     "089f6686169d4573a5d55b0b4919c2bc": {
      "model_module": "@jupyter-widgets/controls",
      "model_module_version": "1.5.0",
      "model_name": "HTMLModel",
      "state": {
       "_dom_classes": [],
       "_model_module": "@jupyter-widgets/controls",
       "_model_module_version": "1.5.0",
       "_model_name": "HTMLModel",
       "_view_count": null,
       "_view_module": "@jupyter-widgets/controls",
       "_view_module_version": "1.5.0",
       "_view_name": "HTMLView",
       "description": "",
       "description_tooltip": null,
       "layout": "IPY_MODEL_89d2d835ac874915af0e90d19571dba4",
       "placeholder": "​",
       "style": "IPY_MODEL_9609e95e538f41d9a5e2ea32d77d10fe",
       "value": " 20/150 [57:47&lt;5:56:34, 164.57s/it]"
      }
     },
     "1290e4a953df4a59b01c8446b45d2057": {
      "model_module": "@jupyter-widgets/base",
      "model_module_version": "1.2.0",
      "model_name": "LayoutModel",
      "state": {
       "_model_module": "@jupyter-widgets/base",
       "_model_module_version": "1.2.0",
       "_model_name": "LayoutModel",
       "_view_count": null,
       "_view_module": "@jupyter-widgets/base",
       "_view_module_version": "1.2.0",
       "_view_name": "LayoutView",
       "align_content": null,
       "align_items": null,
       "align_self": null,
       "border": null,
       "bottom": null,
       "display": null,
       "flex": null,
       "flex_flow": null,
       "grid_area": null,
       "grid_auto_columns": null,
       "grid_auto_flow": null,
       "grid_auto_rows": null,
       "grid_column": null,
       "grid_gap": null,
       "grid_row": null,
       "grid_template_areas": null,
       "grid_template_columns": null,
       "grid_template_rows": null,
       "height": null,
       "justify_content": null,
       "justify_items": null,
       "left": null,
       "margin": null,
       "max_height": null,
       "max_width": null,
       "min_height": null,
       "min_width": null,
       "object_fit": null,
       "object_position": null,
       "order": null,
       "overflow": null,
       "overflow_x": null,
       "overflow_y": null,
       "padding": null,
       "right": null,
       "top": null,
       "visibility": null,
       "width": null
      }
     },
     "144dfa50c399457b91244d9a0d2950f6": {
      "model_module": "@jupyter-widgets/controls",
      "model_module_version": "1.5.0",
      "model_name": "DescriptionStyleModel",
      "state": {
       "_model_module": "@jupyter-widgets/controls",
       "_model_module_version": "1.5.0",
       "_model_name": "DescriptionStyleModel",
       "_view_count": null,
       "_view_module": "@jupyter-widgets/base",
       "_view_module_version": "1.2.0",
       "_view_name": "StyleView",
       "description_width": ""
      }
     },
     "1edd2fd1391f42dcbaae0d654ba8b045": {
      "model_module": "@jupyter-widgets/base",
      "model_module_version": "1.2.0",
      "model_name": "LayoutModel",
      "state": {
       "_model_module": "@jupyter-widgets/base",
       "_model_module_version": "1.2.0",
       "_model_name": "LayoutModel",
       "_view_count": null,
       "_view_module": "@jupyter-widgets/base",
       "_view_module_version": "1.2.0",
       "_view_name": "LayoutView",
       "align_content": null,
       "align_items": null,
       "align_self": null,
       "border": null,
       "bottom": null,
       "display": null,
       "flex": null,
       "flex_flow": null,
       "grid_area": null,
       "grid_auto_columns": null,
       "grid_auto_flow": null,
       "grid_auto_rows": null,
       "grid_column": null,
       "grid_gap": null,
       "grid_row": null,
       "grid_template_areas": null,
       "grid_template_columns": null,
       "grid_template_rows": null,
       "height": null,
       "justify_content": null,
       "justify_items": null,
       "left": null,
       "margin": null,
       "max_height": null,
       "max_width": null,
       "min_height": null,
       "min_width": null,
       "object_fit": null,
       "object_position": null,
       "order": null,
       "overflow": null,
       "overflow_x": null,
       "overflow_y": null,
       "padding": null,
       "right": null,
       "top": null,
       "visibility": null,
       "width": null
      }
     },
     "3c4faee8f3f540cf855ed685508d6575": {
      "model_module": "@jupyter-widgets/base",
      "model_module_version": "1.2.0",
      "model_name": "LayoutModel",
      "state": {
       "_model_module": "@jupyter-widgets/base",
       "_model_module_version": "1.2.0",
       "_model_name": "LayoutModel",
       "_view_count": null,
       "_view_module": "@jupyter-widgets/base",
       "_view_module_version": "1.2.0",
       "_view_name": "LayoutView",
       "align_content": null,
       "align_items": null,
       "align_self": null,
       "border": null,
       "bottom": null,
       "display": null,
       "flex": null,
       "flex_flow": null,
       "grid_area": null,
       "grid_auto_columns": null,
       "grid_auto_flow": null,
       "grid_auto_rows": null,
       "grid_column": null,
       "grid_gap": null,
       "grid_row": null,
       "grid_template_areas": null,
       "grid_template_columns": null,
       "grid_template_rows": null,
       "height": null,
       "justify_content": null,
       "justify_items": null,
       "left": null,
       "margin": null,
       "max_height": null,
       "max_width": null,
       "min_height": null,
       "min_width": null,
       "object_fit": null,
       "object_position": null,
       "order": null,
       "overflow": null,
       "overflow_x": null,
       "overflow_y": null,
       "padding": null,
       "right": null,
       "top": null,
       "visibility": null,
       "width": null
      }
     },
     "3e5363db3d754ab4a8bd551d127d9aff": {
      "model_module": "@jupyter-widgets/controls",
      "model_module_version": "1.5.0",
      "model_name": "FloatProgressModel",
      "state": {
       "_dom_classes": [],
       "_model_module": "@jupyter-widgets/controls",
       "_model_module_version": "1.5.0",
       "_model_name": "FloatProgressModel",
       "_view_count": null,
       "_view_module": "@jupyter-widgets/controls",
       "_view_module_version": "1.5.0",
       "_view_name": "ProgressView",
       "bar_style": "danger",
       "description": "",
       "description_tooltip": null,
       "layout": "IPY_MODEL_3c4faee8f3f540cf855ed685508d6575",
       "max": 150,
       "min": 0,
       "orientation": "horizontal",
       "style": "IPY_MODEL_a360f0c77cee499097c931a97ba81d67",
       "value": 20
      }
     },
     "89d2d835ac874915af0e90d19571dba4": {
      "model_module": "@jupyter-widgets/base",
      "model_module_version": "1.2.0",
      "model_name": "LayoutModel",
      "state": {
       "_model_module": "@jupyter-widgets/base",
       "_model_module_version": "1.2.0",
       "_model_name": "LayoutModel",
       "_view_count": null,
       "_view_module": "@jupyter-widgets/base",
       "_view_module_version": "1.2.0",
       "_view_name": "LayoutView",
       "align_content": null,
       "align_items": null,
       "align_self": null,
       "border": null,
       "bottom": null,
       "display": null,
       "flex": null,
       "flex_flow": null,
       "grid_area": null,
       "grid_auto_columns": null,
       "grid_auto_flow": null,
       "grid_auto_rows": null,
       "grid_column": null,
       "grid_gap": null,
       "grid_row": null,
       "grid_template_areas": null,
       "grid_template_columns": null,
       "grid_template_rows": null,
       "height": null,
       "justify_content": null,
       "justify_items": null,
       "left": null,
       "margin": null,
       "max_height": null,
       "max_width": null,
       "min_height": null,
       "min_width": null,
       "object_fit": null,
       "object_position": null,
       "order": null,
       "overflow": null,
       "overflow_x": null,
       "overflow_y": null,
       "padding": null,
       "right": null,
       "top": null,
       "visibility": null,
       "width": null
      }
     },
     "9609e95e538f41d9a5e2ea32d77d10fe": {
      "model_module": "@jupyter-widgets/controls",
      "model_module_version": "1.5.0",
      "model_name": "DescriptionStyleModel",
      "state": {
       "_model_module": "@jupyter-widgets/controls",
       "_model_module_version": "1.5.0",
       "_model_name": "DescriptionStyleModel",
       "_view_count": null,
       "_view_module": "@jupyter-widgets/base",
       "_view_module_version": "1.2.0",
       "_view_name": "StyleView",
       "description_width": ""
      }
     },
     "a360f0c77cee499097c931a97ba81d67": {
      "model_module": "@jupyter-widgets/controls",
      "model_module_version": "1.5.0",
      "model_name": "ProgressStyleModel",
      "state": {
       "_model_module": "@jupyter-widgets/controls",
       "_model_module_version": "1.5.0",
       "_model_name": "ProgressStyleModel",
       "_view_count": null,
       "_view_module": "@jupyter-widgets/base",
       "_view_module_version": "1.2.0",
       "_view_name": "StyleView",
       "bar_color": null,
       "description_width": ""
      }
     },
     "d705f414a2484dc4b8b88abfa3f1bc87": {
      "model_module": "@jupyter-widgets/controls",
      "model_module_version": "1.5.0",
      "model_name": "HTMLModel",
      "state": {
       "_dom_classes": [],
       "_model_module": "@jupyter-widgets/controls",
       "_model_module_version": "1.5.0",
       "_model_name": "HTMLModel",
       "_view_count": null,
       "_view_module": "@jupyter-widgets/controls",
       "_view_module_version": "1.5.0",
       "_view_name": "HTMLView",
       "description": "",
       "description_tooltip": null,
       "layout": "IPY_MODEL_1edd2fd1391f42dcbaae0d654ba8b045",
       "placeholder": "​",
       "style": "IPY_MODEL_144dfa50c399457b91244d9a0d2950f6",
       "value": " 13%"
      }
     },
     "db6ef71198954f45822b5536e191b5a8": {
      "model_module": "@jupyter-widgets/controls",
      "model_module_version": "1.5.0",
      "model_name": "HBoxModel",
      "state": {
       "_dom_classes": [],
       "_model_module": "@jupyter-widgets/controls",
       "_model_module_version": "1.5.0",
       "_model_name": "HBoxModel",
       "_view_count": null,
       "_view_module": "@jupyter-widgets/controls",
       "_view_module_version": "1.5.0",
       "_view_name": "HBoxView",
       "box_style": "",
       "children": [
        "IPY_MODEL_d705f414a2484dc4b8b88abfa3f1bc87",
        "IPY_MODEL_3e5363db3d754ab4a8bd551d127d9aff",
        "IPY_MODEL_089f6686169d4573a5d55b0b4919c2bc"
       ],
       "layout": "IPY_MODEL_1290e4a953df4a59b01c8446b45d2057"
      }
     }
    },
    "version_major": 2,
    "version_minor": 0
   }
  }
 },
 "nbformat": 4,
 "nbformat_minor": 5
}
