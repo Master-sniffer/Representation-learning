{
  "nbformat": 4,
  "nbformat_minor": 0,
  "metadata": {
    "colab": {
      "provenance": []
    },
    "kernelspec": {
      "name": "python3",
      "display_name": "Python 3"
    },
    "language_info": {
      "name": "python"
    }
  },
  "cells": [
    {
      "cell_type": "code",
      "execution_count": 191,
      "metadata": {
        "id": "I1tnLeUoh1JF"
      },
      "outputs": [],
      "source": [
        "import torch\n",
        "import torch.nn as nn\n",
        "import torch.optim as optim\n",
        "from torchvision import datasets, transforms\n",
        "from torch.utils.data import DataLoader, random_split\n",
        "import numpy as np\n",
        "import matplotlib.pyplot as plt\n",
        "import os\n",
        "import torchvision.models as models\n",
        "import torch\n",
        "import torchvision\n",
        "from torchvision import transforms\n",
        "import torch.nn.functional as F\n",
        "import seaborn as sns\n"
      ]
    },
    {
      "cell_type": "code",
      "source": [
        "# Define a simple CNN model\n",
        "class SimpleCNN(nn.Module):\n",
        "    def __init__(self):\n",
        "        super(SimpleCNN, self).__init__()\n",
        "        self.conv1 = nn.Conv2d(1, 32, 5)\n",
        "        self.pool = nn.MaxPool2d(2, 2)\n",
        "        self.fc1 = nn.Linear(32 * 12 * 12, 120)\n",
        "        self.fc2 = nn.Linear(120, 84)\n",
        "        self.fc3 = nn.Linear(84, 10)\n",
        "\n",
        "    def forward(self, x):\n",
        "        x = self.pool(F.relu(self.conv1(x)))\n",
        "        x = x.view(-1, 32 * 12 * 12)\n",
        "        x = F.relu(self.fc1(x))\n",
        "        x = F.relu(self.fc2(x))\n",
        "        x = self.fc3(x)\n",
        "        return x"
      ],
      "metadata": {
        "id": "P4tB-nppiDAZ"
      },
      "execution_count": 2,
      "outputs": []
    },
    {
      "cell_type": "code",
      "source": [
        "# Define data transformations\n",
        "transform = transforms.Compose([\n",
        "    transforms.ToTensor(),\n",
        "    transforms.Normalize((0.5,), (0.5,))\n",
        "])\n"
      ],
      "metadata": {
        "id": "hFIg8Yf5iFnh"
      },
      "execution_count": 3,
      "outputs": []
    },
    {
      "cell_type": "code",
      "source": [
        "# Load MNIST dataset\n",
        "batch_size = 64\n",
        "trainset = torchvision.datasets.MNIST(root='./data', train=True, download=True, transform=transform)\n",
        "trainloader = torch.utils.data.DataLoader(trainset, batch_size=batch_size, shuffle=True, num_workers=4)\n",
        "\n",
        "testset = torchvision.datasets.MNIST(root='./data', train=False, download=True, transform=transform)\n",
        "testloader = torch.utils.data.DataLoader(testset, batch_size=batch_size, shuffle=False, num_workers=4)\n"
      ],
      "metadata": {
        "id": "j8KRc3aaiFwH"
      },
      "execution_count": 19,
      "outputs": []
    },
    {
      "cell_type": "code",
      "source": [
        "# Access the first image and its label\n",
        "first_image, first_label = testset[4]\n",
        "\n",
        "# Convert the tensor back to a PIL image for visualization\n",
        "first_image_pil = transforms.ToPILImage()(first_image)\n",
        "\n",
        "# Display the image and label\n",
        "plt.imshow(first_image_pil, cmap='gray')\n",
        "plt.title(f\"Label: {first_label}\")\n",
        "plt.axis('off')\n",
        "plt.show()"
      ],
      "metadata": {
        "colab": {
          "base_uri": "https://localhost:8080/",
          "height": 428
        },
        "id": "iUsjSL3kBkud",
        "outputId": "34166d5f-d7f1-4223-bca5-a9cde37a88d8"
      },
      "execution_count": 187,
      "outputs": [
        {
          "output_type": "display_data",
          "data": {
            "text/plain": [
              "<Figure size 640x480 with 1 Axes>"
            ],
            "image/png": "[encoded data removed]"
          },
          "metadata": {}
        }
      ]
    },
    {
      "cell_type": "code",
      "source": [],
      "metadata": {
        "id": "SF71cUyvJLwh"
      },
      "execution_count": null,
      "outputs": []
    },
    {
      "cell_type": "code",
      "source": [
        "# Define the model, loss function, and optimizer\n",
        "net = SimpleCNN()\n",
        "criterion = nn.CrossEntropyLoss()\n",
        "optimizer = optim.SGD(net.parameters(), lr=0.01, momentum=0.9)\n"
      ],
      "metadata": {
        "id": "GZYMvmIRiF26"
      },
      "execution_count": 5,
      "outputs": []
    },
    {
      "cell_type": "code",
      "source": [
        "# Training loop\n",
        "num_epochs = 10  # You can adjust the number of training epochs\n",
        "device = 'cuda' if torch.cuda.is_available() else 'cpu'\n",
        "net.to(device)\n",
        "for epoch in range(num_epochs):\n",
        "    net.train()\n",
        "    running_loss = 0.0\n",
        "    for i, data in enumerate(trainloader, 0):\n",
        "        inputs, labels = data\n",
        "        inputs, labels = inputs.to(device), labels.to(device)\n",
        "\n",
        "        optimizer.zero_grad()\n",
        "        outputs = net(inputs)\n",
        "        loss = criterion(outputs, labels)\n",
        "        loss.backward()\n",
        "        optimizer.step()\n",
        "\n",
        "        running_loss += loss.item()\n",
        "\n",
        "    print(f'Epoch [{epoch + 1}/{num_epochs}] Loss: {running_loss / len(trainloader)}')\n",
        "\n",
        "print('Finished Training')"
      ],
      "metadata": {
        "colab": {
          "base_uri": "https://localhost:8080/"
        },
        "id": "1zE6tNPXiM57",
        "outputId": "fb4d0b1f-77bf-4a25-cd8a-9671f2d89df5"
      },
      "execution_count": null,
      "outputs": [
        {
          "output_type": "stream",
          "name": "stdout",
          "text": [
            "Epoch [1/10] Loss: 0.24878639661556065\n",
            "Epoch [2/10] Loss: 0.06472418259512554\n",
            "Epoch [3/10] Loss: 0.04356077132172692\n",
            "Epoch [4/10] Loss: 0.03322461403618161\n",
            "Epoch [5/10] Loss: 0.023998529542605382\n",
            "Epoch [6/10] Loss: 0.018492115905269734\n",
            "Epoch [7/10] Loss: 0.014650754255752987\n",
            "Epoch [8/10] Loss: 0.011086338368375685\n",
            "Epoch [9/10] Loss: 0.00995450312275003\n",
            "Epoch [10/10] Loss: 0.007264895159367832\n",
            "Finished Training\n"
          ]
        }
      ]
    },
    {
      "cell_type": "code",
      "source": [
        "# Save the trained model\n",
        "torch.save(net.state_dict(), 'simple_CNN.pth')"
      ],
      "metadata": {
        "id": "IWLNJ3r0iM-m"
      },
      "execution_count": null,
      "outputs": []
    },
    {
      "cell_type": "code",
      "source": [
        "# Load the model back\n",
        "simple_cnn = SimpleCNN()\n",
        "simple_cnn.load_state_dict(torch.load('simple_CNN.pth'))\n",
        "simple_cnn.eval()  # Set the model to evaluation mode"
      ],
      "metadata": {
        "colab": {
          "base_uri": "https://localhost:8080/"
        },
        "id": "oaMpgx5wiNCy",
        "outputId": "1eeff8bb-9b02-4d5b-f9eb-33ed5a2ea8b4"
      },
      "execution_count": 6,
      "outputs": [
        {
          "output_type": "execute_result",
          "data": {
            "text/plain": [
              "SimpleCNN(\n",
              "  (conv1): Conv2d(1, 32, kernel_size=(5, 5), stride=(1, 1))\n",
              "  (pool): MaxPool2d(kernel_size=2, stride=2, padding=0, dilation=1, ceil_mode=False)\n",
              "  (fc1): Linear(in_features=4608, out_features=120, bias=True)\n",
              "  (fc2): Linear(in_features=120, out_features=84, bias=True)\n",
              "  (fc3): Linear(in_features=84, out_features=10, bias=True)\n",
              ")"
            ]
          },
          "metadata": {},
          "execution_count": 6
        }
      ]
    },
    {
      "cell_type": "code",
      "source": [
        "# Define data transformations for FashionMNIST\n",
        "transform_fashion = transforms.Compose([\n",
        "    transforms.ToTensor(),\n",
        "    transforms.Normalize((0.5,), (0.5,))\n",
        "])\n",
        "\n",
        "# Load FashionMNIST dataset\n",
        "batch_size = 64\n",
        "fashion_testset = torchvision.datasets.FashionMNIST(root='./data', train=False, download=True, transform=transform_fashion)\n",
        "fashion_testloader = torch.utils.data.DataLoader(fashion_testset, batch_size=batch_size, shuffle=False)\n"
      ],
      "metadata": {
        "id": "EMigBwP0kwcR"
      },
      "execution_count": 185,
      "outputs": []
    },
    {
      "cell_type": "code",
      "source": [
        "# Access the first image and its label\n",
        "first_image, first_label = fashion_testset[0]\n",
        "\n",
        "# Convert the tensor back to a PIL image for visualization\n",
        "first_image_pil = transforms.ToPILImage()(first_image)\n",
        "\n",
        "# Display the image and label\n",
        "plt.imshow(first_image_pil, cmap='gray')\n",
        "plt.title(f\"Label: {first_label}\")\n",
        "plt.axis('off')\n",
        "plt.show()"
      ],
      "metadata": {
        "colab": {
          "base_uri": "https://localhost:8080/",
          "height": 428
        },
        "id": "LSWdAf6OJRCh",
        "outputId": "da9b22d0-b8f0-46dc-9adf-34ddc95fb21f"
      },
      "execution_count": 186,
      "outputs": [
        {
          "output_type": "display_data",
          "data": {
            "text/plain": [
              "<Figure size 640x480 with 1 Axes>"
            ],
            "image/png": "[encoded data removed]"
          },
          "metadata": {}
        }
      ]
    },
    {
      "cell_type": "code",
      "source": [
        "def get_softmax_scores(model, dataloader):\n",
        "    scores = []\n",
        "    outputs_raw = []\n",
        "    with torch.no_grad():\n",
        "        for inputs, _ in dataloader:\n",
        "            outputs = model(inputs)\n",
        "            softmax_scores = F.softmax(outputs, dim=1)\n",
        "            scores.append(softmax_scores)\n",
        "            outputs_raw.append(outputs)\n",
        "    scores = torch.cat(scores)\n",
        "    outputs_raw = torch.cat(outputs_raw)\n",
        "    return scores,outputs_raw"
      ],
      "metadata": {
        "id": "HQQTKzcClSDk"
      },
      "execution_count": 129,
      "outputs": []
    },
    {
      "cell_type": "code",
      "source": [
        "print(testloader)"
      ],
      "metadata": {
        "colab": {
          "base_uri": "https://localhost:8080/"
        },
        "id": "f_x_-YoUBEZI",
        "outputId": "db8a6c2a-d6a1-47af-a5a4-ffe795915c6c"
      },
      "execution_count": 107,
      "outputs": [
        {
          "output_type": "stream",
          "name": "stdout",
          "text": [
            "<torch.utils.data.dataloader.DataLoader object at 0x7e4a5d8a7160>\n"
          ]
        }
      ]
    },
    {
      "cell_type": "code",
      "source": [
        "mnist_softmax_scores,scores_mnist = get_softmax_scores(simple_cnn, testloader)  # MNIST softmax scores (ID)\n",
        "fashion_softmax_scores,scores_fashion = get_softmax_scores(simple_cnn, fashion_testloader)  # FashionMNIST softmax scores (OOD)"
      ],
      "metadata": {
        "id": "bsxcNqc7lSK1",
        "colab": {
          "base_uri": "https://localhost:8080/"
        },
        "outputId": "96b91b54-c64c-459f-8c88-f1c3cb0e2406"
      },
      "execution_count": 130,
      "outputs": [
        {
          "output_type": "stream",
          "name": "stderr",
          "text": [
            "/usr/local/lib/python3.10/dist-packages/torch/utils/data/dataloader.py:560: UserWarning: This DataLoader will create 4 worker processes in total. Our suggested max number of worker in current system is 2, which is smaller than what this DataLoader is going to create. Please be aware that excessive worker creation might get DataLoader running slow or even freeze, lower the worker number to avoid potential slowness/freeze if necessary.\n",
            "  warnings.warn(_create_warning_msg(\n"
          ]
        }
      ]
    },
    {
      "cell_type": "code",
      "source": [
        "print(torch.sum(mnist_softmax_scores[0]))"
      ],
      "metadata": {
        "colab": {
          "base_uri": "https://localhost:8080/"
        },
        "id": "in-bslqo1UGt",
        "outputId": "7d137b27-4159-4994-aa0d-889783add886"
      },
      "execution_count": 43,
      "outputs": [
        {
          "output_type": "stream",
          "name": "stdout",
          "text": [
            "tensor(1.)\n"
          ]
        }
      ]
    },
    {
      "cell_type": "code",
      "source": [
        "print(scores_mnist.shape)"
      ],
      "metadata": {
        "colab": {
          "base_uri": "https://localhost:8080/"
        },
        "id": "-cwvZieg5Vcl",
        "outputId": "e415dfde-2bc5-49ea-8ff3-fa813e19f998"
      },
      "execution_count": 131,
      "outputs": [
        {
          "output_type": "stream",
          "name": "stdout",
          "text": [
            "torch.Size([10000, 10])\n"
          ]
        }
      ]
    },
    {
      "cell_type": "code",
      "source": [
        "print(mnist_softmax_scores.shape)\n"
      ],
      "metadata": {
        "colab": {
          "base_uri": "https://localhost:8080/"
        },
        "id": "3U1prxVzlkxy",
        "outputId": "9857bf3d-976c-401f-aaff-8b37656e6bfd"
      },
      "execution_count": 132,
      "outputs": [
        {
          "output_type": "stream",
          "name": "stdout",
          "text": [
            "torch.Size([10000, 10])\n"
          ]
        }
      ]
    },
    {
      "cell_type": "code",
      "source": [
        "print(torch.sum(mnist_softmax_scores[0]))"
      ],
      "metadata": {
        "colab": {
          "base_uri": "https://localhost:8080/"
        },
        "id": "MmypvZOFmgCL",
        "outputId": "425205f2-9a2e-47bf-aa10-1d561ac1e2fc"
      },
      "execution_count": 133,
      "outputs": [
        {
          "output_type": "stream",
          "name": "stdout",
          "text": [
            "tensor(1.)\n"
          ]
        }
      ]
    },
    {
      "cell_type": "code",
      "source": [
        "threshold = 0.9  # Adjust as needed\n",
        "\n",
        "def classify_samples(softmax_scores, threshold):\n",
        "    max_scores, _ = torch.max(softmax_scores, dim=1)\n",
        "    ood_samples = max_scores < threshold\n",
        "    return ood_samples,max_scores"
      ],
      "metadata": {
        "id": "CP9AqLSzm_ZK"
      },
      "execution_count": 194,
      "outputs": []
    },
    {
      "cell_type": "code",
      "source": [
        "mnist_ood_samples,max_mnist = classify_samples(mnist_softmax_scores, threshold)\n",
        "fashion_ood_samples,max_fashion = classify_samples(fashion_softmax_scores, threshold)"
      ],
      "metadata": {
        "id": "p4X2Jz3jnAq6"
      },
      "execution_count": 195,
      "outputs": []
    },
    {
      "cell_type": "code",
      "source": [
        "# Create a KDE plot\n",
        "sns.kdeplot(max_mnist, shade=True, color = \"blue\")\n",
        "sns.kdeplot(max_fashion, shade=True, color = \"yellow\")\n",
        "\n",
        "\n",
        "# Customize the plot\n",
        "plt.xlabel(\"Max softmax Score\")\n",
        "plt.ylabel(\"Density\")\n",
        "plt.title(\"Softmax Scores Distribution (KDE Plot)\")\n",
        "\n",
        "# Display the plot or save it to a file\n",
        "plt.show()"
      ],
      "metadata": {
        "colab": {
          "base_uri": "https://localhost:8080/",
          "height": 686
        },
        "id": "c7aHjLzRLjtf",
        "outputId": "23055766-7da7-4d0c-d052-e7e3bca7902d"
      },
      "execution_count": 197,
      "outputs": [
        {
          "output_type": "stream",
          "name": "stderr",
          "text": [
            "<ipython-input-197-f4c328f624db>:2: FutureWarning: \n",
            "\n",
            "`shade` is now deprecated in favor of `fill`; setting `fill=True`.\n",
            "This will become an error in seaborn v0.14.0; please update your code.\n",
            "\n",
            "  sns.kdeplot(max_mnist, shade=True, color = \"blue\")\n",
            "<ipython-input-197-f4c328f624db>:3: FutureWarning: \n",
            "\n",
            "`shade` is now deprecated in favor of `fill`; setting `fill=True`.\n",
            "This will become an error in seaborn v0.14.0; please update your code.\n",
            "\n",
            "  sns.kdeplot(max_fashion, shade=True, color = \"yellow\")\n"
          ]
        },
        {
          "output_type": "display_data",
          "data": {
            "text/plain": [
              "<Figure size 640x480 with 1 Axes>"
            ],
            "image/png": "[encoded data removed]"
          },
          "metadata": {}
        }
      ]
    },
    {
      "cell_type": "code",
      "source": [
        "print(torch.sum(mnist_ood_samples).item())\n",
        "print(torch.sum(fashion_ood_samples).item())"
      ],
      "metadata": {
        "colab": {
          "base_uri": "https://localhost:8080/"
        },
        "id": "GA6O_HRonD2n",
        "outputId": "5f8b084f-e2e5-4911-d21c-9ca5d4df3d72"
      },
      "execution_count": 114,
      "outputs": [
        {
          "output_type": "stream",
          "name": "stdout",
          "text": [
            "184\n",
            "5968\n"
          ]
        }
      ]
    },
    {
      "cell_type": "code",
      "source": [
        "d=2\n",
        "def energy(out, axis = 1, numpy = True, T = 1, correction = False , ty='not_num'): #actually takes negative energy\n",
        "    print(\"Called\")\n",
        "\n",
        "    if ty == 'not_num':\n",
        "      #print(\"correct\")\n",
        "      out = out.detach().numpy()\n",
        "\n",
        "      #print(out)\n",
        "      #denominator of softmax np.sum(np.exp(out/T)\n",
        "      scores = T*np.log(np.sum(np.exp(out/T), axis = axis))\n",
        "    if correction:\n",
        "      print(\"here\")\n",
        "      scores -= T*np.log(d)\n",
        "\n",
        "    return scores"
      ],
      "metadata": {
        "id": "3hTrXwGcupi9"
      },
      "execution_count": 134,
      "outputs": []
    },
    {
      "cell_type": "code",
      "source": [
        "print(scores_mnist.shape)"
      ],
      "metadata": {
        "colab": {
          "base_uri": "https://localhost:8080/"
        },
        "id": "FnbCoYYJuppd",
        "outputId": "a505b33b-a89b-47e5-d4a6-9528714e1689"
      },
      "execution_count": 135,
      "outputs": [
        {
          "output_type": "stream",
          "name": "stdout",
          "text": [
            "torch.Size([10000, 10])\n"
          ]
        }
      ]
    },
    {
      "cell_type": "code",
      "source": [
        "# Energy Scores\n",
        "ID_energy_score = energy(scores_mnist)\n",
        "OOD_energy_score = energy(scores_fashion)\n"
      ],
      "metadata": {
        "colab": {
          "base_uri": "https://localhost:8080/"
        },
        "id": "mHxMuKJwwlCh",
        "outputId": "63b36112-11f8-4637-ea8e-fc3b7e86856a"
      },
      "execution_count": 148,
      "outputs": [
        {
          "output_type": "stream",
          "name": "stdout",
          "text": [
            "Called\n",
            "Called\n"
          ]
        }
      ]
    },
    {
      "cell_type": "code",
      "source": [
        "print(ID_energy_score)\n",
        "print(OOD_energy_score)"
      ],
      "metadata": {
        "colab": {
          "base_uri": "https://localhost:8080/"
        },
        "id": "Cp_qsdIvyHhW",
        "outputId": "1d148cab-df85-4c13-acb5-645657f66e71"
      },
      "execution_count": 149,
      "outputs": [
        {
          "output_type": "stream",
          "name": "stdout",
          "text": [
            "[20.270672 25.159874 13.932249 ... 28.565504 25.746426 19.249998]\n",
            "[7.619541  7.2831483 7.247143  ... 6.3047795 6.108951  4.079705 ]\n"
          ]
        }
      ]
    },
    {
      "cell_type": "code",
      "source": [
        "# Create a KDE plot\n",
        "sns.kdeplot(ID_energy_score, shade=True, color = \"blue\")\n",
        "sns.kdeplot(OOD_energy_score, shade=True, color = \"yellow\")\n",
        "\n",
        "\n",
        "# Customize the plot\n",
        "plt.xlabel(\"Energy Score\")\n",
        "plt.ylabel(\"Density\")\n",
        "plt.title(\"Energy Scores Distribution (KDE Plot)\")\n",
        "\n",
        "# Display the plot or save it to a file\n",
        "plt.show()\n"
      ],
      "metadata": {
        "colab": {
          "base_uri": "https://localhost:8080/",
          "height": 686
        },
        "id": "UcKo_HWCGFxe",
        "outputId": "1dd8bc24-e076-45b4-d85e-7d220adb4faf"
      },
      "execution_count": 172,
      "outputs": [
        {
          "output_type": "stream",
          "name": "stderr",
          "text": [
            "<ipython-input-172-0bac3853979a>:2: FutureWarning: \n",
            "\n",
            "`shade` is now deprecated in favor of `fill`; setting `fill=True`.\n",
            "This will become an error in seaborn v0.14.0; please update your code.\n",
            "\n",
            "  sns.kdeplot(ID_energy_score, shade=True, color = \"blue\")\n",
            "<ipython-input-172-0bac3853979a>:3: FutureWarning: \n",
            "\n",
            "`shade` is now deprecated in favor of `fill`; setting `fill=True`.\n",
            "This will become an error in seaborn v0.14.0; please update your code.\n",
            "\n",
            "  sns.kdeplot(OOD_energy_score, shade=True, color = \"yellow\")\n"
          ]
        },
        {
          "output_type": "display_data",
          "data": {
            "text/plain": [
              "<Figure size 640x480 with 1 Axes>"
            ],
            "image/png": "[encoded data removed]"
          },
          "metadata": {}
        }
      ]
    },
    {
      "cell_type": "code",
      "source": [
        "t = 10.0\n",
        "ID_OOD = ID_energy_score < t\n",
        "OOD = OOD_energy_score < t"
      ],
      "metadata": {
        "colab": {
          "base_uri": "https://localhost:8080/"
        },
        "id": "H8FVug_AyoJH",
        "outputId": "36bfed1b-3bda-4334-d653-48c7f57c55fc"
      },
      "execution_count": 190,
      "outputs": [
        {
          "output_type": "stream",
          "name": "stdout",
          "text": [
            "(10000,)\n"
          ]
        }
      ]
    },
    {
      "cell_type": "code",
      "source": [
        "\n",
        "print(np.sum(ID_OOD).item())\n",
        "print(np.sum(OOD).item())"
      ],
      "metadata": {
        "colab": {
          "base_uri": "https://localhost:8080/"
        },
        "id": "z5OVhYP6zCAS",
        "outputId": "9c464f52-2716-483b-f875-6765040d0d72"
      },
      "execution_count": 181,
      "outputs": [
        {
          "output_type": "stream",
          "name": "stdout",
          "text": [
            "157\n",
            "9311\n"
          ]
        }
      ]
    }
  ]
}