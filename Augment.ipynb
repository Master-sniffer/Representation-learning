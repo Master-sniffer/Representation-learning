{
  "nbformat": 4,
  "nbformat_minor": 0,
  "metadata": {
    "colab": {
      "provenance": [],
      "gpuType": "T4"
    },
    "kernelspec": {
      "name": "python3",
      "display_name": "Python 3"
    },
    "language_info": {
      "name": "python"
    }
  },
  "cells": [
    {
      "cell_type": "code",
      "execution_count": 87,
      "metadata": {
        "id": "7-GvN2yyf6p4"
      },
      "outputs": [],
      "source": [
        "import torchvision\n",
        "import torchvision.transforms as transforms\n",
        "import matplotlib.pyplot as plt\n",
        "import numpy as np\n",
        "from PIL import Image\n",
        "from matplotlib import cm\n",
        "import numpy as np\n",
        "import torch\n",
        "from tqdm import tqdm"
      ]
    },
    {
      "cell_type": "code",
      "source": [
        "# Define transformations (optional, but recommended)\n",
        "transform = transforms.Compose([\n",
        "    transforms.ToTensor(),  # Convert to a PyTorch tensor\n",
        "])"
      ],
      "metadata": {
        "id": "xdse2wB2gDYj"
      },
      "execution_count": 2,
      "outputs": []
    },
    {
      "cell_type": "code",
      "source": [
        "# Load the CIFAR-10 training dataset\n",
        "train_dataset = torchvision.datasets.CIFAR10(root='./data', train=True, transform=transform, download=True)\n",
        "\n",
        "# Load the CIFAR-10 test dataset (if needed)\n",
        "test_dataset = torchvision.datasets.CIFAR10(root='./data', train=False, transform=transform, download=True)"
      ],
      "metadata": {
        "colab": {
          "base_uri": "https://localhost:8080/"
        },
        "id": "k32lWOVugF0f",
        "outputId": "8d650647-eb4f-4a49-ae78-30d8a46e4d5a"
      },
      "execution_count": 3,
      "outputs": [
        {
          "output_type": "stream",
          "name": "stdout",
          "text": [
            "Downloading https://www.cs.toronto.edu/~kriz/cifar-10-python.tar.gz to ./data/cifar-10-python.tar.gz\n"
          ]
        },
        {
          "output_type": "stream",
          "name": "stderr",
          "text": [
            "100%|██████████| 170498071/170498071 [00:02<00:00, 58666951.05it/s]\n"
          ]
        },
        {
          "output_type": "stream",
          "name": "stdout",
          "text": [
            "Extracting ./data/cifar-10-python.tar.gz to ./data\n",
            "Files already downloaded and verified\n"
          ]
        }
      ]
    },
    {
      "cell_type": "code",
      "source": [
        "print(len(train_dataset))"
      ],
      "metadata": {
        "colab": {
          "base_uri": "https://localhost:8080/"
        },
        "id": "7-Lm8Uh8rOXI",
        "outputId": "18b3f2cb-71cb-4f24-e1bb-eeb31f4c2b8b"
      },
      "execution_count": 91,
      "outputs": [
        {
          "output_type": "stream",
          "name": "stdout",
          "text": [
            "50000\n"
          ]
        }
      ]
    },
    {
      "cell_type": "code",
      "source": [
        "#image_index = 3  # Index of the image you want to access\n",
        "#tensor_img, label = train_dataset[image_index]"
      ],
      "metadata": {
        "id": "rvPQexSQgMto"
      },
      "execution_count": 66,
      "outputs": []
    },
    {
      "cell_type": "code",
      "source": [
        "#print(tensor_img)\n",
        "# Convert the PyTorch tensor to a PIL image\n",
        "#to_pil = transforms.ToPILImage()\n",
        "#pil_image = to_pil(tensor_img)"
      ],
      "metadata": {
        "id": "pfgO4HHWkzSA"
      },
      "execution_count": 67,
      "outputs": []
    },
    {
      "cell_type": "code",
      "source": [
        "#plt.imshow(pil_image)"
      ],
      "metadata": {
        "id": "3xGzPQ_8lSKz"
      },
      "execution_count": 15,
      "outputs": []
    },
    {
      "cell_type": "code",
      "source": [
        "#rotated_image = pil_image.rotate(0)  # Replace 90 with your desired angle\n"
      ],
      "metadata": {
        "id": "Daj_lByHgOLa"
      },
      "execution_count": 68,
      "outputs": []
    },
    {
      "cell_type": "code",
      "source": [
        " # Define a transformation to convert PIL image to a tensor\n",
        "\n",
        "def rotate(tensor_img,d,trans,pil):\n",
        "  #print(tensor_img)\n",
        "  pil_img = pil(tensor_img)\n",
        "  #plt.imshow(pil_img)\n",
        "  rotated_img = pil_img.rotate(d)  # Replace 90 with your desired angle\n",
        "  #plt.imshow(rotated_img)\n",
        "  # Apply the transformation to convert PIL image to a tensor\n",
        "  tensor_image = trans(rotated_img)\n",
        "  #print(tensor_image)\n",
        "  return tensor_image\n"
      ],
      "metadata": {
        "id": "v5rFPdf_j87c"
      },
      "execution_count": 75,
      "outputs": []
    },
    {
      "cell_type": "code",
      "source": [
        "rotated_img = []\n",
        "t = transforms.ToTensor()\n",
        "to_pil = transforms.ToPILImage()\n",
        "iter = len(train_dataset)\n",
        "for i in tqdm(range(iter), desc=\"Rotating images\"):\n",
        "  img ,label = train_dataset[i]\n",
        "  d = np.random.randint(0,180)\n",
        "  rot_img = rotate(img,d,t,to_pil)\n",
        "  rotated_img.append(rot_img)"
      ],
      "metadata": {
        "colab": {
          "base_uri": "https://localhost:8080/"
        },
        "id": "poYRXQ0Xndxq",
        "outputId": "31d26cd7-bd7f-4c76-ea3f-d94e224b5a8a"
      },
      "execution_count": 103,
      "outputs": [
        {
          "output_type": "stream",
          "name": "stderr",
          "text": [
            "Rotating images: 100%|██████████| 50000/50000 [00:16<00:00, 3100.78it/s]\n"
          ]
        }
      ]
    },
    {
      "cell_type": "code",
      "source": [
        "img = to_pil(rotated_img[200])\n",
        "plt.imshow(img)"
      ],
      "metadata": {
        "colab": {
          "base_uri": "https://localhost:8080/",
          "height": 448
        },
        "id": "3vFTy0W0obks",
        "outputId": "05ac5545-5298-43cc-9669-838eaa415d73"
      },
      "execution_count": 104,
      "outputs": [
        {
          "output_type": "execute_result",
          "data": {
            "text/plain": [
              "<matplotlib.image.AxesImage at 0x7cb9b6f7faf0>"
            ]
          },
          "metadata": {},
          "execution_count": 104
        },
        {
          "output_type": "display_data",
          "data": {
            "text/plain": [
              "<Figure size 640x480 with 1 Axes>"
            ],
            "image/png": "[encoded data removed]"
          },
          "metadata": {}
        }
      ]
    }
  ]
}